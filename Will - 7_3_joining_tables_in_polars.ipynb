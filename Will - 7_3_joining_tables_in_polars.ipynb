{
 "cells": [
  {
   "cell_type": "markdown",
   "id": "2d129329",
   "metadata": {},
   "source": [
    "## Colab Prep\n",
    "\n",
    "Execute the following code cells to whenever you open/restart the notebook in Google Colab."
   ]
  },
  {
   "cell_type": "code",
   "execution_count": null,
   "id": "7b375479",
   "metadata": {},
   "outputs": [],
   "source": [
    "!pip install \"polars[all]\""
   ]
  },
  {
   "cell_type": "code",
   "execution_count": null,
   "id": "d188a811",
   "metadata": {
    "scrolled": true
   },
   "outputs": [],
   "source": [
    "!wget https://github.com/WSU-DataScience/dsci_325_module_7_more_data_management_in_python/raw/main/sample_data.zip"
   ]
  },
  {
   "cell_type": "code",
   "execution_count": null,
   "id": "311d5379",
   "metadata": {},
   "outputs": [],
   "source": [
    "!unzip ./sample_data.zip"
   ]
  },
  {
   "cell_type": "code",
   "execution_count": null,
   "id": "6e90c0b4",
   "metadata": {},
   "outputs": [],
   "source": [
    "!pip install more_polars"
   ]
  },
  {
   "cell_type": "markdown",
   "id": "4860bf4a",
   "metadata": {
    "slideshow": {
     "slide_type": "slide"
    }
   },
   "source": [
    "# Joining Tables with `polars`"
   ]
  },
  {
   "cell_type": "code",
   "execution_count": 3,
   "id": "1736398e",
   "metadata": {
    "slideshow": {
     "slide_type": "fragment"
    }
   },
   "outputs": [],
   "source": [
    "import polars as pl\n",
    "pl.Config.with_columns_kwargs = True"
   ]
  },
  {
   "cell_type": "markdown",
   "id": "c22bbb5b",
   "metadata": {
    "slideshow": {
     "slide_type": "slide"
    }
   },
   "source": [
    "## Example\n",
    "\n",
    "The following tables were taken from the Wikipedia page for joins and will provide a small but sufficiently complicated example for introducing joins."
   ]
  },
  {
   "cell_type": "code",
   "execution_count": 2,
   "id": "ede04292",
   "metadata": {
    "slideshow": {
     "slide_type": "fragment"
    }
   },
   "outputs": [
    {
     "data": {
      "text/html": [
       "<div><style>\n",
       ".dataframe > thead > tr,\n",
       ".dataframe > tbody > tr {\n",
       "  text-align: right;\n",
       "  white-space: pre-wrap;\n",
       "}\n",
       "</style>\n",
       "<small>shape: (4, 2)</small><table border=\"1\" class=\"dataframe\"><thead><tr><th>DeptID</th><th>DeptName</th></tr><tr><td>i64</td><td>str</td></tr></thead><tbody><tr><td>31</td><td>&quot;Sales&quot;</td></tr><tr><td>33</td><td>&quot;Engineering&quot;</td></tr><tr><td>34</td><td>&quot;Clerical&quot;</td></tr><tr><td>35</td><td>&quot;Marketing&quot;</td></tr></tbody></table></div>"
      ],
      "text/plain": [
       "shape: (4, 2)\n",
       "┌────────┬─────────────┐\n",
       "│ DeptID ┆ DeptName    │\n",
       "│ ---    ┆ ---         │\n",
       "│ i64    ┆ str         │\n",
       "╞════════╪═════════════╡\n",
       "│ 31     ┆ Sales       │\n",
       "│ 33     ┆ Engineering │\n",
       "│ 34     ┆ Clerical    │\n",
       "│ 35     ┆ Marketing   │\n",
       "└────────┴─────────────┘"
      ]
     },
     "execution_count": 2,
     "metadata": {},
     "output_type": "execute_result"
    }
   ],
   "source": [
    "dept = pl.read_csv(\"./sample_data/department.csv\")\n",
    "dept"
   ]
  },
  {
   "cell_type": "code",
   "execution_count": 4,
   "id": "695cf9ec",
   "metadata": {
    "slideshow": {
     "slide_type": "slide"
    }
   },
   "outputs": [
    {
     "data": {
      "text/html": [
       "<div><style>\n",
       ".dataframe > thead > tr,\n",
       ".dataframe > tbody > tr {\n",
       "  text-align: right;\n",
       "  white-space: pre-wrap;\n",
       "}\n",
       "</style>\n",
       "<small>shape: (6, 3)</small><table border=\"1\" class=\"dataframe\"><thead><tr><th>LastName</th><th>EmployeeID</th><th>DeptID</th></tr><tr><td>str</td><td>i64</td><td>i64</td></tr></thead><tbody><tr><td>&quot;Rafferty&quot;</td><td>102</td><td>31</td></tr><tr><td>&quot;Jones&quot;</td><td>105</td><td>33</td></tr><tr><td>&quot;Heisenberg&quot;</td><td>106</td><td>33</td></tr><tr><td>&quot;Robinson&quot;</td><td>108</td><td>34</td></tr><tr><td>&quot;Smith&quot;</td><td>110</td><td>34</td></tr><tr><td>&quot;Williams&quot;</td><td>111</td><td>null</td></tr></tbody></table></div>"
      ],
      "text/plain": [
       "shape: (6, 3)\n",
       "┌────────────┬────────────┬────────┐\n",
       "│ LastName   ┆ EmployeeID ┆ DeptID │\n",
       "│ ---        ┆ ---        ┆ ---    │\n",
       "│ str        ┆ i64        ┆ i64    │\n",
       "╞════════════╪════════════╪════════╡\n",
       "│ Rafferty   ┆ 102        ┆ 31     │\n",
       "│ Jones      ┆ 105        ┆ 33     │\n",
       "│ Heisenberg ┆ 106        ┆ 33     │\n",
       "│ Robinson   ┆ 108        ┆ 34     │\n",
       "│ Smith      ┆ 110        ┆ 34     │\n",
       "│ Williams   ┆ 111        ┆ null   │\n",
       "└────────────┴────────────┴────────┘"
      ]
     },
     "execution_count": 4,
     "metadata": {},
     "output_type": "execute_result"
    }
   ],
   "source": [
    "empl = pl.read_csv(\"./sample_data/employee.csv\")\n",
    "empl"
   ]
  },
  {
   "cell_type": "code",
   "execution_count": 4,
   "id": "ce093637",
   "metadata": {
    "slideshow": {
     "slide_type": "slide"
    }
   },
   "outputs": [
    {
     "data": {
      "text/html": [
       "<div><style>\n",
       ".dataframe > thead > tr,\n",
       ".dataframe > tbody > tr {\n",
       "  text-align: right;\n",
       "  white-space: pre-wrap;\n",
       "}\n",
       "</style>\n",
       "<small>shape: (18, 3)</small><table border=\"1\" class=\"dataframe\"><thead><tr><th>EmployeeID</th><th>Year</th><th>Salary</th></tr><tr><td>i64</td><td>i64</td><td>i64</td></tr></thead><tbody><tr><td>102</td><td>2020</td><td>52000</td></tr><tr><td>102</td><td>2021</td><td>53000</td></tr><tr><td>102</td><td>2022</td><td>54000</td></tr><tr><td>105</td><td>2020</td><td>73000</td></tr><tr><td>105</td><td>2021</td><td>74000</td></tr><tr><td>&hellip;</td><td>&hellip;</td><td>&hellip;</td></tr><tr><td>110</td><td>2021</td><td>59000</td></tr><tr><td>110</td><td>2022</td><td>61000</td></tr><tr><td>111</td><td>2020</td><td>72000</td></tr><tr><td>111</td><td>2021</td><td>73000</td></tr><tr><td>111</td><td>2022</td><td>74000</td></tr></tbody></table></div>"
      ],
      "text/plain": [
       "shape: (18, 3)\n",
       "┌────────────┬──────┬────────┐\n",
       "│ EmployeeID ┆ Year ┆ Salary │\n",
       "│ ---        ┆ ---  ┆ ---    │\n",
       "│ i64        ┆ i64  ┆ i64    │\n",
       "╞════════════╪══════╪════════╡\n",
       "│ 102        ┆ 2020 ┆ 52000  │\n",
       "│ 102        ┆ 2021 ┆ 53000  │\n",
       "│ 102        ┆ 2022 ┆ 54000  │\n",
       "│ 105        ┆ 2020 ┆ 73000  │\n",
       "│ 105        ┆ 2021 ┆ 74000  │\n",
       "│ …          ┆ …    ┆ …      │\n",
       "│ 110        ┆ 2021 ┆ 59000  │\n",
       "│ 110        ┆ 2022 ┆ 61000  │\n",
       "│ 111        ┆ 2020 ┆ 72000  │\n",
       "│ 111        ┆ 2021 ┆ 73000  │\n",
       "│ 111        ┆ 2022 ┆ 74000  │\n",
       "└────────────┴──────┴────────┘"
      ]
     },
     "execution_count": 4,
     "metadata": {},
     "output_type": "execute_result"
    }
   ],
   "source": [
    "salary = pl.read_csv(\"./sample_data/salary.csv\")\n",
    "salary"
   ]
  },
  {
   "cell_type": "markdown",
   "id": "a0c27ff8",
   "metadata": {
    "slideshow": {
     "slide_type": "slide"
    }
   },
   "source": [
    "## LEFT JOIN"
   ]
  },
  {
   "cell_type": "code",
   "execution_count": 7,
   "id": "eb99c54b",
   "metadata": {
    "scrolled": true,
    "slideshow": {
     "slide_type": "fragment"
    }
   },
   "outputs": [
    {
     "data": {
      "text/html": [
       "<div><style>\n",
       ".dataframe > thead > tr,\n",
       ".dataframe > tbody > tr {\n",
       "  text-align: right;\n",
       "  white-space: pre-wrap;\n",
       "}\n",
       "</style>\n",
       "<small>shape: (6, 4)</small><table border=\"1\" class=\"dataframe\"><thead><tr><th>LastName</th><th>EmployeeID</th><th>DeptID</th><th>DeptName</th></tr><tr><td>str</td><td>i64</td><td>i64</td><td>str</td></tr></thead><tbody><tr><td>&quot;Rafferty&quot;</td><td>102</td><td>31</td><td>&quot;Sales&quot;</td></tr><tr><td>&quot;Jones&quot;</td><td>105</td><td>33</td><td>&quot;Engineering&quot;</td></tr><tr><td>&quot;Heisenberg&quot;</td><td>106</td><td>33</td><td>&quot;Engineering&quot;</td></tr><tr><td>&quot;Robinson&quot;</td><td>108</td><td>34</td><td>&quot;Clerical&quot;</td></tr><tr><td>&quot;Smith&quot;</td><td>110</td><td>34</td><td>&quot;Clerical&quot;</td></tr><tr><td>&quot;Williams&quot;</td><td>111</td><td>null</td><td>null</td></tr></tbody></table></div>"
      ],
      "text/plain": [
       "shape: (6, 4)\n",
       "┌────────────┬────────────┬────────┬─────────────┐\n",
       "│ LastName   ┆ EmployeeID ┆ DeptID ┆ DeptName    │\n",
       "│ ---        ┆ ---        ┆ ---    ┆ ---         │\n",
       "│ str        ┆ i64        ┆ i64    ┆ str         │\n",
       "╞════════════╪════════════╪════════╪═════════════╡\n",
       "│ Rafferty   ┆ 102        ┆ 31     ┆ Sales       │\n",
       "│ Jones      ┆ 105        ┆ 33     ┆ Engineering │\n",
       "│ Heisenberg ┆ 106        ┆ 33     ┆ Engineering │\n",
       "│ Robinson   ┆ 108        ┆ 34     ┆ Clerical    │\n",
       "│ Smith      ┆ 110        ┆ 34     ┆ Clerical    │\n",
       "│ Williams   ┆ 111        ┆ null   ┆ null        │\n",
       "└────────────┴────────────┴────────┴─────────────┘"
      ]
     },
     "execution_count": 7,
     "metadata": {},
     "output_type": "execute_result"
    }
   ],
   "source": [
    "empl.join(dept, on='DeptID', how='left')"
   ]
  },
  {
   "cell_type": "markdown",
   "id": "3e646506",
   "metadata": {
    "slideshow": {
     "slide_type": "slide"
    }
   },
   "source": [
    "## When the index names differ"
   ]
  },
  {
   "cell_type": "code",
   "execution_count": 8,
   "id": "90d5d469",
   "metadata": {
    "slideshow": {
     "slide_type": "fragment"
    }
   },
   "outputs": [
    {
     "data": {
      "text/html": [
       "<div><style>\n",
       ".dataframe > thead > tr,\n",
       ".dataframe > tbody > tr {\n",
       "  text-align: right;\n",
       "  white-space: pre-wrap;\n",
       "}\n",
       "</style>\n",
       "<small>shape: (6, 3)</small><table border=\"1\" class=\"dataframe\"><thead><tr><th>LastName</th><th>EmployeeID</th><th>dept_id</th></tr><tr><td>str</td><td>i64</td><td>i64</td></tr></thead><tbody><tr><td>&quot;Rafferty&quot;</td><td>102</td><td>31</td></tr><tr><td>&quot;Jones&quot;</td><td>105</td><td>33</td></tr><tr><td>&quot;Heisenberg&quot;</td><td>106</td><td>33</td></tr><tr><td>&quot;Robinson&quot;</td><td>108</td><td>34</td></tr><tr><td>&quot;Smith&quot;</td><td>110</td><td>34</td></tr><tr><td>&quot;Williams&quot;</td><td>111</td><td>null</td></tr></tbody></table></div>"
      ],
      "text/plain": [
       "shape: (6, 3)\n",
       "┌────────────┬────────────┬─────────┐\n",
       "│ LastName   ┆ EmployeeID ┆ dept_id │\n",
       "│ ---        ┆ ---        ┆ ---     │\n",
       "│ str        ┆ i64        ┆ i64     │\n",
       "╞════════════╪════════════╪═════════╡\n",
       "│ Rafferty   ┆ 102        ┆ 31      │\n",
       "│ Jones      ┆ 105        ┆ 33      │\n",
       "│ Heisenberg ┆ 106        ┆ 33      │\n",
       "│ Robinson   ┆ 108        ┆ 34      │\n",
       "│ Smith      ┆ 110        ┆ 34      │\n",
       "│ Williams   ┆ 111        ┆ null    │\n",
       "└────────────┴────────────┴─────────┘"
      ]
     },
     "execution_count": 8,
     "metadata": {},
     "output_type": "execute_result"
    }
   ],
   "source": [
    "empl2 = empl.rename({'DeptID':'dept_id'})\n",
    "empl2"
   ]
  },
  {
   "cell_type": "code",
   "execution_count": 10,
   "id": "b236f9e7",
   "metadata": {
    "scrolled": true,
    "slideshow": {
     "slide_type": "fragment"
    }
   },
   "outputs": [
    {
     "data": {
      "text/html": [
       "<div><style>\n",
       ".dataframe > thead > tr,\n",
       ".dataframe > tbody > tr {\n",
       "  text-align: right;\n",
       "  white-space: pre-wrap;\n",
       "}\n",
       "</style>\n",
       "<small>shape: (6, 4)</small><table border=\"1\" class=\"dataframe\"><thead><tr><th>LastName</th><th>EmployeeID</th><th>dept_id</th><th>DeptName</th></tr><tr><td>str</td><td>i64</td><td>i64</td><td>str</td></tr></thead><tbody><tr><td>&quot;Rafferty&quot;</td><td>102</td><td>31</td><td>&quot;Sales&quot;</td></tr><tr><td>&quot;Jones&quot;</td><td>105</td><td>33</td><td>&quot;Engineering&quot;</td></tr><tr><td>&quot;Heisenberg&quot;</td><td>106</td><td>33</td><td>&quot;Engineering&quot;</td></tr><tr><td>&quot;Robinson&quot;</td><td>108</td><td>34</td><td>&quot;Clerical&quot;</td></tr><tr><td>&quot;Smith&quot;</td><td>110</td><td>34</td><td>&quot;Clerical&quot;</td></tr><tr><td>&quot;Williams&quot;</td><td>111</td><td>null</td><td>null</td></tr></tbody></table></div>"
      ],
      "text/plain": [
       "shape: (6, 4)\n",
       "┌────────────┬────────────┬─────────┬─────────────┐\n",
       "│ LastName   ┆ EmployeeID ┆ dept_id ┆ DeptName    │\n",
       "│ ---        ┆ ---        ┆ ---     ┆ ---         │\n",
       "│ str        ┆ i64        ┆ i64     ┆ str         │\n",
       "╞════════════╪════════════╪═════════╪═════════════╡\n",
       "│ Rafferty   ┆ 102        ┆ 31      ┆ Sales       │\n",
       "│ Jones      ┆ 105        ┆ 33      ┆ Engineering │\n",
       "│ Heisenberg ┆ 106        ┆ 33      ┆ Engineering │\n",
       "│ Robinson   ┆ 108        ┆ 34      ┆ Clerical    │\n",
       "│ Smith      ┆ 110        ┆ 34      ┆ Clerical    │\n",
       "│ Williams   ┆ 111        ┆ null    ┆ null        │\n",
       "└────────────┴────────────┴─────────┴─────────────┘"
      ]
     },
     "execution_count": 10,
     "metadata": {},
     "output_type": "execute_result"
    }
   ],
   "source": [
    "empl2.join(dept, left_on='dept_id', right_on='DeptID', how='left')"
   ]
  },
  {
   "cell_type": "markdown",
   "id": "b97b4331",
   "metadata": {
    "slideshow": {
     "slide_type": "slide"
    }
   },
   "source": [
    "## RIGHT JOIN"
   ]
  },
  {
   "cell_type": "code",
   "execution_count": 12,
   "id": "d7a844cb-c6e0-4672-97db-0ad097f5c586",
   "metadata": {},
   "outputs": [
    {
     "data": {
      "text/html": [
       "<div><style>\n",
       ".dataframe > thead > tr,\n",
       ".dataframe > tbody > tr {\n",
       "  text-align: right;\n",
       "  white-space: pre-wrap;\n",
       "}\n",
       "</style>\n",
       "<small>shape: (6, 4)</small><table border=\"1\" class=\"dataframe\"><thead><tr><th>LastName</th><th>EmployeeID</th><th>DeptID</th><th>DeptName</th></tr><tr><td>str</td><td>i64</td><td>i64</td><td>str</td></tr></thead><tbody><tr><td>&quot;Rafferty&quot;</td><td>102</td><td>31</td><td>&quot;Sales&quot;</td></tr><tr><td>&quot;Jones&quot;</td><td>105</td><td>33</td><td>&quot;Engineering&quot;</td></tr><tr><td>&quot;Heisenberg&quot;</td><td>106</td><td>33</td><td>&quot;Engineering&quot;</td></tr><tr><td>&quot;Robinson&quot;</td><td>108</td><td>34</td><td>&quot;Clerical&quot;</td></tr><tr><td>&quot;Smith&quot;</td><td>110</td><td>34</td><td>&quot;Clerical&quot;</td></tr><tr><td>null</td><td>null</td><td>35</td><td>&quot;Marketing&quot;</td></tr></tbody></table></div>"
      ],
      "text/plain": [
       "shape: (6, 4)\n",
       "┌────────────┬────────────┬────────┬─────────────┐\n",
       "│ LastName   ┆ EmployeeID ┆ DeptID ┆ DeptName    │\n",
       "│ ---        ┆ ---        ┆ ---    ┆ ---         │\n",
       "│ str        ┆ i64        ┆ i64    ┆ str         │\n",
       "╞════════════╪════════════╪════════╪═════════════╡\n",
       "│ Rafferty   ┆ 102        ┆ 31     ┆ Sales       │\n",
       "│ Jones      ┆ 105        ┆ 33     ┆ Engineering │\n",
       "│ Heisenberg ┆ 106        ┆ 33     ┆ Engineering │\n",
       "│ Robinson   ┆ 108        ┆ 34     ┆ Clerical    │\n",
       "│ Smith      ┆ 110        ┆ 34     ┆ Clerical    │\n",
       "│ null       ┆ null       ┆ 35     ┆ Marketing   │\n",
       "└────────────┴────────────┴────────┴─────────────┘"
      ]
     },
     "execution_count": 12,
     "metadata": {},
     "output_type": "execute_result"
    }
   ],
   "source": [
    "empl2.join(dept, left_on='dept_id', right_on='DeptID', how='right')"
   ]
  },
  {
   "cell_type": "markdown",
   "id": "a4b95613",
   "metadata": {
    "slideshow": {
     "slide_type": "slide"
    }
   },
   "source": [
    "## Full Outer Join"
   ]
  },
  {
   "cell_type": "code",
   "execution_count": 14,
   "id": "eb1b0c41",
   "metadata": {
    "scrolled": true,
    "slideshow": {
     "slide_type": "fragment"
    }
   },
   "outputs": [
    {
     "data": {
      "text/html": [
       "<div><style>\n",
       ".dataframe > thead > tr,\n",
       ".dataframe > tbody > tr {\n",
       "  text-align: right;\n",
       "  white-space: pre-wrap;\n",
       "}\n",
       "</style>\n",
       "<small>shape: (7, 5)</small><table border=\"1\" class=\"dataframe\"><thead><tr><th>LastName</th><th>EmployeeID</th><th>DeptID</th><th>DeptID_right</th><th>DeptName</th></tr><tr><td>str</td><td>i64</td><td>i64</td><td>i64</td><td>str</td></tr></thead><tbody><tr><td>&quot;Rafferty&quot;</td><td>102</td><td>31</td><td>31</td><td>&quot;Sales&quot;</td></tr><tr><td>&quot;Jones&quot;</td><td>105</td><td>33</td><td>33</td><td>&quot;Engineering&quot;</td></tr><tr><td>&quot;Heisenberg&quot;</td><td>106</td><td>33</td><td>33</td><td>&quot;Engineering&quot;</td></tr><tr><td>&quot;Robinson&quot;</td><td>108</td><td>34</td><td>34</td><td>&quot;Clerical&quot;</td></tr><tr><td>&quot;Smith&quot;</td><td>110</td><td>34</td><td>34</td><td>&quot;Clerical&quot;</td></tr><tr><td>&quot;Williams&quot;</td><td>111</td><td>null</td><td>null</td><td>null</td></tr><tr><td>null</td><td>null</td><td>null</td><td>35</td><td>&quot;Marketing&quot;</td></tr></tbody></table></div>"
      ],
      "text/plain": [
       "shape: (7, 5)\n",
       "┌────────────┬────────────┬────────┬──────────────┬─────────────┐\n",
       "│ LastName   ┆ EmployeeID ┆ DeptID ┆ DeptID_right ┆ DeptName    │\n",
       "│ ---        ┆ ---        ┆ ---    ┆ ---          ┆ ---         │\n",
       "│ str        ┆ i64        ┆ i64    ┆ i64          ┆ str         │\n",
       "╞════════════╪════════════╪════════╪══════════════╪═════════════╡\n",
       "│ Rafferty   ┆ 102        ┆ 31     ┆ 31           ┆ Sales       │\n",
       "│ Jones      ┆ 105        ┆ 33     ┆ 33           ┆ Engineering │\n",
       "│ Heisenberg ┆ 106        ┆ 33     ┆ 33           ┆ Engineering │\n",
       "│ Robinson   ┆ 108        ┆ 34     ┆ 34           ┆ Clerical    │\n",
       "│ Smith      ┆ 110        ┆ 34     ┆ 34           ┆ Clerical    │\n",
       "│ Williams   ┆ 111        ┆ null   ┆ null         ┆ null        │\n",
       "│ null       ┆ null       ┆ null   ┆ 35           ┆ Marketing   │\n",
       "└────────────┴────────────┴────────┴──────────────┴─────────────┘"
      ]
     },
     "execution_count": 14,
     "metadata": {},
     "output_type": "execute_result"
    }
   ],
   "source": [
    "empl.join(dept, on='DeptID', how='full')"
   ]
  },
  {
   "cell_type": "markdown",
   "id": "5476d4d1",
   "metadata": {
    "slideshow": {
     "slide_type": "slide"
    }
   },
   "source": [
    "## Inner Join"
   ]
  },
  {
   "cell_type": "code",
   "execution_count": 15,
   "id": "f1ad6378",
   "metadata": {
    "scrolled": true,
    "slideshow": {
     "slide_type": "fragment"
    }
   },
   "outputs": [
    {
     "data": {
      "text/html": [
       "<div><style>\n",
       ".dataframe > thead > tr,\n",
       ".dataframe > tbody > tr {\n",
       "  text-align: right;\n",
       "  white-space: pre-wrap;\n",
       "}\n",
       "</style>\n",
       "<small>shape: (5, 4)</small><table border=\"1\" class=\"dataframe\"><thead><tr><th>LastName</th><th>EmployeeID</th><th>DeptID</th><th>DeptName</th></tr><tr><td>str</td><td>i64</td><td>i64</td><td>str</td></tr></thead><tbody><tr><td>&quot;Rafferty&quot;</td><td>102</td><td>31</td><td>&quot;Sales&quot;</td></tr><tr><td>&quot;Jones&quot;</td><td>105</td><td>33</td><td>&quot;Engineering&quot;</td></tr><tr><td>&quot;Heisenberg&quot;</td><td>106</td><td>33</td><td>&quot;Engineering&quot;</td></tr><tr><td>&quot;Robinson&quot;</td><td>108</td><td>34</td><td>&quot;Clerical&quot;</td></tr><tr><td>&quot;Smith&quot;</td><td>110</td><td>34</td><td>&quot;Clerical&quot;</td></tr></tbody></table></div>"
      ],
      "text/plain": [
       "shape: (5, 4)\n",
       "┌────────────┬────────────┬────────┬─────────────┐\n",
       "│ LastName   ┆ EmployeeID ┆ DeptID ┆ DeptName    │\n",
       "│ ---        ┆ ---        ┆ ---    ┆ ---         │\n",
       "│ str        ┆ i64        ┆ i64    ┆ str         │\n",
       "╞════════════╪════════════╪════════╪═════════════╡\n",
       "│ Rafferty   ┆ 102        ┆ 31     ┆ Sales       │\n",
       "│ Jones      ┆ 105        ┆ 33     ┆ Engineering │\n",
       "│ Heisenberg ┆ 106        ┆ 33     ┆ Engineering │\n",
       "│ Robinson   ┆ 108        ┆ 34     ┆ Clerical    │\n",
       "│ Smith      ┆ 110        ┆ 34     ┆ Clerical    │\n",
       "└────────────┴────────────┴────────┴─────────────┘"
      ]
     },
     "execution_count": 15,
     "metadata": {},
     "output_type": "execute_result"
    }
   ],
   "source": [
    "empl.join(dept, on='DeptID', how='inner')"
   ]
  },
  {
   "cell_type": "markdown",
   "id": "c81ac10d-c8de-4540-87ae-aa056243b2b5",
   "metadata": {},
   "source": [
    "## <font color=\"red\"> Exercise 7.3.1 </font>\n",
    "\n",
    "**Tasks**\n",
    "\n",
    "1. Use help on `empl.join` and identify any additional join types offered by `polars`, and\n",
    "2. Write a sentence or two providing an example that might require each join type."
   ]
  },
  {
   "cell_type": "code",
   "execution_count": 5,
   "id": "768aa4c0-2c83-4874-8a00-b1662460ecc3",
   "metadata": {},
   "outputs": [
    {
     "name": "stdout",
     "output_type": "stream",
     "text": [
      "Help on method join in module polars.dataframe.frame:\n",
      "\n",
      "join(other: 'DataFrame', on: 'str | Expr | Sequence[str | Expr] | None' = None, how: 'JoinStrategy' = 'inner', *, left_on: 'str | Expr | Sequence[str | Expr] | None' = None, right_on: 'str | Expr | Sequence[str | Expr] | None' = None, suffix: 'str' = '_right', validate: 'JoinValidation' = 'm:m', join_nulls: 'bool' = False, coalesce: 'bool | None' = None) -> 'DataFrame' method of polars.dataframe.frame.DataFrame instance\n",
      "    Join in SQL-like fashion.\n",
      "\n",
      "    Parameters\n",
      "    ----------\n",
      "    other\n",
      "        DataFrame to join with.\n",
      "    on\n",
      "        Name(s) of the join columns in both DataFrames.\n",
      "    how : {'inner', 'left', 'right', 'full', 'semi', 'anti', 'cross'}\n",
      "        Join strategy.\n",
      "\n",
      "        * *inner*\n",
      "            Returns rows that have matching values in both tables\n",
      "        * *left*\n",
      "            Returns all rows from the left table, and the matched rows from the\n",
      "            right table\n",
      "        * *right*\n",
      "            Returns all rows from the right table, and the matched rows from the\n",
      "            left table\n",
      "        * *full*\n",
      "            Returns all rows when there is a match in either left or right table\n",
      "        * *cross*\n",
      "            Returns the Cartesian product of rows from both tables\n",
      "        * *semi*\n",
      "            Returns rows from the left table that have a match in the right table.\n",
      "        * *anti*\n",
      "            Returns rows from the left table that have no match in the right table.\n",
      "\n",
      "        .. note::\n",
      "            A left join preserves the row order of the left DataFrame.\n",
      "    left_on\n",
      "        Name(s) of the left join column(s).\n",
      "    right_on\n",
      "        Name(s) of the right join column(s).\n",
      "    suffix\n",
      "        Suffix to append to columns with a duplicate name.\n",
      "    validate: {'m:m', 'm:1', '1:m', '1:1'}\n",
      "        Checks if join is of specified type.\n",
      "\n",
      "            * *many_to_many*\n",
      "                “m:m”: default, does not result in checks\n",
      "            * *one_to_one*\n",
      "                “1:1”: check if join keys are unique in both left and right datasets\n",
      "            * *one_to_many*\n",
      "                “1:m”: check if join keys are unique in left dataset\n",
      "            * *many_to_one*\n",
      "                “m:1”: check if join keys are unique in right dataset\n",
      "\n",
      "        .. note::\n",
      "            This is currently not supported by the streaming engine.\n",
      "\n",
      "    join_nulls\n",
      "        Join on null values. By default null values will never produce matches.\n",
      "    coalesce\n",
      "        Coalescing behavior (merging of join columns).\n",
      "\n",
      "        - None: -> join specific.\n",
      "        - True: -> Always coalesce join columns.\n",
      "        - False: -> Never coalesce join columns.\n",
      "\n",
      "        Note that joining on any other expressions than `col`\n",
      "        will turn off coalescing.\n",
      "\n",
      "    See Also\n",
      "    --------\n",
      "    join_asof\n",
      "\n",
      "    Examples\n",
      "    --------\n",
      "    >>> df = pl.DataFrame(\n",
      "    ...     {\n",
      "    ...         \"foo\": [1, 2, 3],\n",
      "    ...         \"bar\": [6.0, 7.0, 8.0],\n",
      "    ...         \"ham\": [\"a\", \"b\", \"c\"],\n",
      "    ...     }\n",
      "    ... )\n",
      "    >>> other_df = pl.DataFrame(\n",
      "    ...     {\n",
      "    ...         \"apple\": [\"x\", \"y\", \"z\"],\n",
      "    ...         \"ham\": [\"a\", \"b\", \"d\"],\n",
      "    ...     }\n",
      "    ... )\n",
      "    >>> df.join(other_df, on=\"ham\")\n",
      "    shape: (2, 4)\n",
      "    ┌─────┬─────┬─────┬───────┐\n",
      "    │ foo ┆ bar ┆ ham ┆ apple │\n",
      "    │ --- ┆ --- ┆ --- ┆ ---   │\n",
      "    │ i64 ┆ f64 ┆ str ┆ str   │\n",
      "    ╞═════╪═════╪═════╪═══════╡\n",
      "    │ 1   ┆ 6.0 ┆ a   ┆ x     │\n",
      "    │ 2   ┆ 7.0 ┆ b   ┆ y     │\n",
      "    └─────┴─────┴─────┴───────┘\n",
      "\n",
      "    >>> df.join(other_df, on=\"ham\", how=\"full\")\n",
      "    shape: (4, 5)\n",
      "    ┌──────┬──────┬──────┬───────┬───────────┐\n",
      "    │ foo  ┆ bar  ┆ ham  ┆ apple ┆ ham_right │\n",
      "    │ ---  ┆ ---  ┆ ---  ┆ ---   ┆ ---       │\n",
      "    │ i64  ┆ f64  ┆ str  ┆ str   ┆ str       │\n",
      "    ╞══════╪══════╪══════╪═══════╪═══════════╡\n",
      "    │ 1    ┆ 6.0  ┆ a    ┆ x     ┆ a         │\n",
      "    │ 2    ┆ 7.0  ┆ b    ┆ y     ┆ b         │\n",
      "    │ null ┆ null ┆ null ┆ z     ┆ d         │\n",
      "    │ 3    ┆ 8.0  ┆ c    ┆ null  ┆ null      │\n",
      "    └──────┴──────┴──────┴───────┴───────────┘\n",
      "\n",
      "    >>> df.join(other_df, on=\"ham\", how=\"left\", coalesce=True)\n",
      "    shape: (3, 4)\n",
      "    ┌─────┬─────┬─────┬───────┐\n",
      "    │ foo ┆ bar ┆ ham ┆ apple │\n",
      "    │ --- ┆ --- ┆ --- ┆ ---   │\n",
      "    │ i64 ┆ f64 ┆ str ┆ str   │\n",
      "    ╞═════╪═════╪═════╪═══════╡\n",
      "    │ 1   ┆ 6.0 ┆ a   ┆ x     │\n",
      "    │ 2   ┆ 7.0 ┆ b   ┆ y     │\n",
      "    │ 3   ┆ 8.0 ┆ c   ┆ null  │\n",
      "    └─────┴─────┴─────┴───────┘\n",
      "\n",
      "    >>> df.join(other_df, on=\"ham\", how=\"semi\")\n",
      "    shape: (2, 3)\n",
      "    ┌─────┬─────┬─────┐\n",
      "    │ foo ┆ bar ┆ ham │\n",
      "    │ --- ┆ --- ┆ --- │\n",
      "    │ i64 ┆ f64 ┆ str │\n",
      "    ╞═════╪═════╪═════╡\n",
      "    │ 1   ┆ 6.0 ┆ a   │\n",
      "    │ 2   ┆ 7.0 ┆ b   │\n",
      "    └─────┴─────┴─────┘\n",
      "\n",
      "    >>> df.join(other_df, on=\"ham\", how=\"anti\")\n",
      "    shape: (1, 3)\n",
      "    ┌─────┬─────┬─────┐\n",
      "    │ foo ┆ bar ┆ ham │\n",
      "    │ --- ┆ --- ┆ --- │\n",
      "    │ i64 ┆ f64 ┆ str │\n",
      "    ╞═════╪═════╪═════╡\n",
      "    │ 3   ┆ 8.0 ┆ c   │\n",
      "    └─────┴─────┴─────┘\n",
      "\n",
      "    Notes\n",
      "    -----\n",
      "    For joining on columns with categorical data, see :class:`polars.StringCache`.\n",
      "\n"
     ]
    }
   ],
   "source": [
    "# Your code here\n",
    "help(empl.join)"
   ]
  },
  {
   "cell_type": "markdown",
   "id": "8451ad6e-5103-4791-bdb1-4d2b046ac1a7",
   "metadata": {},
   "source": [
    "<font color=\"orange\">\n",
    "Your answers here\n",
    "\n",
    "1. Cross - joins each row from the first table to each row of the second\n",
    "2. semi - returns rows from the left table that has a match from the right table\n",
    "3. anti - returns rows from the left table that have no match to the right table\n",
    "</font>"
   ]
  },
  {
   "cell_type": "markdown",
   "id": "66d6f787",
   "metadata": {},
   "source": [
    "## Chaining multiple joins\n",
    "\n",
    "To join more than two tables, simply dot-chain each join onto the first table.\n",
    "\n",
    "```{python}\n",
    "(table1\n",
    " .join(table2, ...)\n",
    " .join(table3, ...)\n",
    ")\n",
    "```"
   ]
  },
  {
   "cell_type": "markdown",
   "id": "f6a0170c",
   "metadata": {},
   "source": [
    "### Example - Average salary by department\n",
    "\n",
    "Suppose we want to compute the average salary for each department, sorted from largest to smallest.  Before performing the query, make sure you understand the relationships between tables.\n",
    "\n",
    "<img src=\"https://github.com/WSU-DataScience/dsci_325_module_7_more_data_management_in_python/raw/main/img/table_relationship.png\" width=\"800\">\n"
   ]
  },
  {
   "cell_type": "markdown",
   "id": "dc1cbefe",
   "metadata": {
    "slideshow": {
     "slide_type": "slide"
    }
   },
   "source": [
    "#### Edit 1 - Joining the salary and employee tables\n",
    "\n",
    "**Notes.**\n",
    "\n",
    "1. We can't perform the aggregation until *after* joining the departments and salaries.\n",
    "2. Since we are primarily interested in aggregating salaries, we need to use a *left* join with the salary table on the left.\n",
    "3. To illustrate the coding process, we will show each successive edit in a separate cell.  In practice, all the code would be developed in one cell, but rerun to check the results at each step."
   ]
  },
  {
   "cell_type": "code",
   "execution_count": 19,
   "id": "5d96a57b",
   "metadata": {
    "slideshow": {
     "slide_type": "fragment"
    }
   },
   "outputs": [
    {
     "data": {
      "text/html": [
       "<div><style>\n",
       ".dataframe > thead > tr,\n",
       ".dataframe > tbody > tr {\n",
       "  text-align: right;\n",
       "  white-space: pre-wrap;\n",
       "}\n",
       "</style>\n",
       "<small>shape: (5, 5)</small><table border=\"1\" class=\"dataframe\"><thead><tr><th>EmployeeID</th><th>Year</th><th>Salary</th><th>LastName</th><th>DeptID</th></tr><tr><td>i64</td><td>i64</td><td>i64</td><td>str</td><td>i64</td></tr></thead><tbody><tr><td>102</td><td>2020</td><td>52000</td><td>&quot;Rafferty&quot;</td><td>31</td></tr><tr><td>102</td><td>2021</td><td>53000</td><td>&quot;Rafferty&quot;</td><td>31</td></tr><tr><td>102</td><td>2022</td><td>54000</td><td>&quot;Rafferty&quot;</td><td>31</td></tr><tr><td>105</td><td>2020</td><td>73000</td><td>&quot;Jones&quot;</td><td>33</td></tr><tr><td>105</td><td>2021</td><td>74000</td><td>&quot;Jones&quot;</td><td>33</td></tr></tbody></table></div>"
      ],
      "text/plain": [
       "shape: (5, 5)\n",
       "┌────────────┬──────┬────────┬──────────┬────────┐\n",
       "│ EmployeeID ┆ Year ┆ Salary ┆ LastName ┆ DeptID │\n",
       "│ ---        ┆ ---  ┆ ---    ┆ ---      ┆ ---    │\n",
       "│ i64        ┆ i64  ┆ i64    ┆ str      ┆ i64    │\n",
       "╞════════════╪══════╪════════╪══════════╪════════╡\n",
       "│ 102        ┆ 2020 ┆ 52000  ┆ Rafferty ┆ 31     │\n",
       "│ 102        ┆ 2021 ┆ 53000  ┆ Rafferty ┆ 31     │\n",
       "│ 102        ┆ 2022 ┆ 54000  ┆ Rafferty ┆ 31     │\n",
       "│ 105        ┆ 2020 ┆ 73000  ┆ Jones    ┆ 33     │\n",
       "│ 105        ┆ 2021 ┆ 74000  ┆ Jones    ┆ 33     │\n",
       "└────────────┴──────┴────────┴──────────┴────────┘"
      ]
     },
     "execution_count": 19,
     "metadata": {},
     "output_type": "execute_result"
    }
   ],
   "source": [
    "(salary\n",
    " .join(empl, on='EmployeeID', how='left')\n",
    ").head()"
   ]
  },
  {
   "cell_type": "markdown",
   "id": "4c5f345d",
   "metadata": {
    "slideshow": {
     "slide_type": "slide"
    }
   },
   "source": [
    "#### Edit 2  - Joining on the departments"
   ]
  },
  {
   "cell_type": "code",
   "execution_count": 20,
   "id": "a569b19c",
   "metadata": {
    "slideshow": {
     "slide_type": "fragment"
    }
   },
   "outputs": [
    {
     "data": {
      "text/html": [
       "<div><style>\n",
       ".dataframe > thead > tr,\n",
       ".dataframe > tbody > tr {\n",
       "  text-align: right;\n",
       "  white-space: pre-wrap;\n",
       "}\n",
       "</style>\n",
       "<small>shape: (5, 6)</small><table border=\"1\" class=\"dataframe\"><thead><tr><th>EmployeeID</th><th>Year</th><th>Salary</th><th>LastName</th><th>DeptID</th><th>DeptName</th></tr><tr><td>i64</td><td>i64</td><td>i64</td><td>str</td><td>i64</td><td>str</td></tr></thead><tbody><tr><td>102</td><td>2020</td><td>52000</td><td>&quot;Rafferty&quot;</td><td>31</td><td>&quot;Sales&quot;</td></tr><tr><td>102</td><td>2021</td><td>53000</td><td>&quot;Rafferty&quot;</td><td>31</td><td>&quot;Sales&quot;</td></tr><tr><td>102</td><td>2022</td><td>54000</td><td>&quot;Rafferty&quot;</td><td>31</td><td>&quot;Sales&quot;</td></tr><tr><td>105</td><td>2020</td><td>73000</td><td>&quot;Jones&quot;</td><td>33</td><td>&quot;Engineering&quot;</td></tr><tr><td>105</td><td>2021</td><td>74000</td><td>&quot;Jones&quot;</td><td>33</td><td>&quot;Engineering&quot;</td></tr></tbody></table></div>"
      ],
      "text/plain": [
       "shape: (5, 6)\n",
       "┌────────────┬──────┬────────┬──────────┬────────┬─────────────┐\n",
       "│ EmployeeID ┆ Year ┆ Salary ┆ LastName ┆ DeptID ┆ DeptName    │\n",
       "│ ---        ┆ ---  ┆ ---    ┆ ---      ┆ ---    ┆ ---         │\n",
       "│ i64        ┆ i64  ┆ i64    ┆ str      ┆ i64    ┆ str         │\n",
       "╞════════════╪══════╪════════╪══════════╪════════╪═════════════╡\n",
       "│ 102        ┆ 2020 ┆ 52000  ┆ Rafferty ┆ 31     ┆ Sales       │\n",
       "│ 102        ┆ 2021 ┆ 53000  ┆ Rafferty ┆ 31     ┆ Sales       │\n",
       "│ 102        ┆ 2022 ┆ 54000  ┆ Rafferty ┆ 31     ┆ Sales       │\n",
       "│ 105        ┆ 2020 ┆ 73000  ┆ Jones    ┆ 33     ┆ Engineering │\n",
       "│ 105        ┆ 2021 ┆ 74000  ┆ Jones    ┆ 33     ┆ Engineering │\n",
       "└────────────┴──────┴────────┴──────────┴────────┴─────────────┘"
      ]
     },
     "execution_count": 20,
     "metadata": {},
     "output_type": "execute_result"
    }
   ],
   "source": [
    "(salary\n",
    " .join(empl, on='EmployeeID', how='left')\n",
    " .join(dept, on='DeptID', how='left')\n",
    ").head()"
   ]
  },
  {
   "cell_type": "markdown",
   "id": "8c0a8c25",
   "metadata": {
    "slideshow": {
     "slide_type": "slide"
    }
   },
   "source": [
    "#### Edit 3  - Group and aggregate"
   ]
  },
  {
   "cell_type": "code",
   "execution_count": 21,
   "id": "1767b60d",
   "metadata": {
    "slideshow": {
     "slide_type": "fragment"
    }
   },
   "outputs": [
    {
     "data": {
      "text/html": [
       "<div><style>\n",
       ".dataframe > thead > tr,\n",
       ".dataframe > tbody > tr {\n",
       "  text-align: right;\n",
       "  white-space: pre-wrap;\n",
       "}\n",
       "</style>\n",
       "<small>shape: (4, 2)</small><table border=\"1\" class=\"dataframe\"><thead><tr><th>DeptName</th><th>Average Salary</th></tr><tr><td>str</td><td>f64</td></tr></thead><tbody><tr><td>&quot;Engineering&quot;</td><td>79000.0</td></tr><tr><td>&quot;Clerical&quot;</td><td>77000.0</td></tr><tr><td>null</td><td>73000.0</td></tr><tr><td>&quot;Sales&quot;</td><td>53000.0</td></tr></tbody></table></div>"
      ],
      "text/plain": [
       "shape: (4, 2)\n",
       "┌─────────────┬────────────────┐\n",
       "│ DeptName    ┆ Average Salary │\n",
       "│ ---         ┆ ---            │\n",
       "│ str         ┆ f64            │\n",
       "╞═════════════╪════════════════╡\n",
       "│ Engineering ┆ 79000.0        │\n",
       "│ Clerical    ┆ 77000.0        │\n",
       "│ null        ┆ 73000.0        │\n",
       "│ Sales       ┆ 53000.0        │\n",
       "└─────────────┴────────────────┘"
      ]
     },
     "execution_count": 21,
     "metadata": {},
     "output_type": "execute_result"
    }
   ],
   "source": [
    "(salary\n",
    " .join(empl, on='EmployeeID', how='left')\n",
    " .join(dept, on='DeptID', how='left')\n",
    " .group_by('DeptName')\n",
    " .agg([pl.col('Salary').mean().alias('Average Salary'),\n",
    "      ])\n",
    ")"
   ]
  },
  {
   "cell_type": "markdown",
   "id": "25834b09",
   "metadata": {
    "slideshow": {
     "slide_type": "slide"
    }
   },
   "source": [
    "#### Edit 4  - Sort the results from largest to smallest"
   ]
  },
  {
   "cell_type": "code",
   "execution_count": 22,
   "id": "f3d25fc0",
   "metadata": {
    "slideshow": {
     "slide_type": "fragment"
    }
   },
   "outputs": [
    {
     "data": {
      "text/html": [
       "<div><style>\n",
       ".dataframe > thead > tr,\n",
       ".dataframe > tbody > tr {\n",
       "  text-align: right;\n",
       "  white-space: pre-wrap;\n",
       "}\n",
       "</style>\n",
       "<small>shape: (4, 2)</small><table border=\"1\" class=\"dataframe\"><thead><tr><th>DeptName</th><th>Average Salary</th></tr><tr><td>str</td><td>f64</td></tr></thead><tbody><tr><td>&quot;Engineering&quot;</td><td>79000.0</td></tr><tr><td>&quot;Clerical&quot;</td><td>77000.0</td></tr><tr><td>null</td><td>73000.0</td></tr><tr><td>&quot;Sales&quot;</td><td>53000.0</td></tr></tbody></table></div>"
      ],
      "text/plain": [
       "shape: (4, 2)\n",
       "┌─────────────┬────────────────┐\n",
       "│ DeptName    ┆ Average Salary │\n",
       "│ ---         ┆ ---            │\n",
       "│ str         ┆ f64            │\n",
       "╞═════════════╪════════════════╡\n",
       "│ Engineering ┆ 79000.0        │\n",
       "│ Clerical    ┆ 77000.0        │\n",
       "│ null        ┆ 73000.0        │\n",
       "│ Sales       ┆ 53000.0        │\n",
       "└─────────────┴────────────────┘"
      ]
     },
     "execution_count": 22,
     "metadata": {},
     "output_type": "execute_result"
    }
   ],
   "source": [
    "(salary\n",
    " .join(empl, on='EmployeeID', how='left')\n",
    " .join(dept, on='DeptID', how='left')\n",
    " .group_by('DeptName')\n",
    " .agg([pl.col('Salary').mean().alias('Average Salary'),\n",
    "      ])\n",
    " .sort('Average Salary', descending=True)\n",
    ")"
   ]
  },
  {
   "cell_type": "markdown",
   "id": "e9d70090",
   "metadata": {},
   "source": [
    "## Example 2 - Joining Batting to People\n",
    "\n",
    "As an example of a joining on more than 1 column, consider the following task.\n",
    "\n",
    "**Task:** Create a table with the total runs score for each team in 2009.  Include the teams proper name and the name of their home park."
   ]
  },
  {
   "cell_type": "code",
   "execution_count": 23,
   "id": "8cfbe73d",
   "metadata": {},
   "outputs": [
    {
     "data": {
      "text/html": [
       "<div><style>\n",
       ".dataframe > thead > tr,\n",
       ".dataframe > tbody > tr {\n",
       "  text-align: right;\n",
       "  white-space: pre-wrap;\n",
       "}\n",
       "</style>\n",
       "<small>shape: (5, 22)</small><table border=\"1\" class=\"dataframe\"><thead><tr><th>playerID</th><th>yearID</th><th>stint</th><th>teamID</th><th>lgID</th><th>G</th><th>AB</th><th>R</th><th>H</th><th>2B</th><th>3B</th><th>HR</th><th>RBI</th><th>SB</th><th>CS</th><th>BB</th><th>SO</th><th>IBB</th><th>HBP</th><th>SH</th><th>SF</th><th>GIDP</th></tr><tr><td>str</td><td>i64</td><td>i64</td><td>str</td><td>str</td><td>i64</td><td>i64</td><td>i64</td><td>i64</td><td>i64</td><td>i64</td><td>i64</td><td>i64</td><td>i64</td><td>i64</td><td>i64</td><td>i64</td><td>str</td><td>str</td><td>str</td><td>str</td><td>i64</td></tr></thead><tbody><tr><td>&quot;abercda01&quot;</td><td>1871</td><td>1</td><td>&quot;TRO&quot;</td><td>&quot;NA&quot;</td><td>1</td><td>4</td><td>0</td><td>0</td><td>0</td><td>0</td><td>0</td><td>0</td><td>0</td><td>0</td><td>0</td><td>0</td><td>null</td><td>null</td><td>null</td><td>null</td><td>0</td></tr><tr><td>&quot;addybo01&quot;</td><td>1871</td><td>1</td><td>&quot;RC1&quot;</td><td>&quot;NA&quot;</td><td>25</td><td>118</td><td>30</td><td>32</td><td>6</td><td>0</td><td>0</td><td>13</td><td>8</td><td>1</td><td>4</td><td>0</td><td>null</td><td>null</td><td>null</td><td>null</td><td>0</td></tr><tr><td>&quot;allisar01&quot;</td><td>1871</td><td>1</td><td>&quot;CL1&quot;</td><td>&quot;NA&quot;</td><td>29</td><td>137</td><td>28</td><td>40</td><td>4</td><td>5</td><td>0</td><td>19</td><td>3</td><td>1</td><td>2</td><td>5</td><td>null</td><td>null</td><td>null</td><td>null</td><td>1</td></tr><tr><td>&quot;allisdo01&quot;</td><td>1871</td><td>1</td><td>&quot;WS3&quot;</td><td>&quot;NA&quot;</td><td>27</td><td>133</td><td>28</td><td>44</td><td>10</td><td>2</td><td>2</td><td>27</td><td>1</td><td>1</td><td>0</td><td>2</td><td>null</td><td>null</td><td>null</td><td>null</td><td>0</td></tr><tr><td>&quot;ansonca01&quot;</td><td>1871</td><td>1</td><td>&quot;RC1&quot;</td><td>&quot;NA&quot;</td><td>25</td><td>120</td><td>29</td><td>39</td><td>11</td><td>3</td><td>0</td><td>16</td><td>6</td><td>2</td><td>2</td><td>1</td><td>null</td><td>null</td><td>null</td><td>null</td><td>0</td></tr></tbody></table></div>"
      ],
      "text/plain": [
       "shape: (5, 22)\n",
       "┌───────────┬────────┬───────┬────────┬───┬──────┬──────┬──────┬──────┐\n",
       "│ playerID  ┆ yearID ┆ stint ┆ teamID ┆ … ┆ HBP  ┆ SH   ┆ SF   ┆ GIDP │\n",
       "│ ---       ┆ ---    ┆ ---   ┆ ---    ┆   ┆ ---  ┆ ---  ┆ ---  ┆ ---  │\n",
       "│ str       ┆ i64    ┆ i64   ┆ str    ┆   ┆ str  ┆ str  ┆ str  ┆ i64  │\n",
       "╞═══════════╪════════╪═══════╪════════╪═══╪══════╪══════╪══════╪══════╡\n",
       "│ abercda01 ┆ 1871   ┆ 1     ┆ TRO    ┆ … ┆ null ┆ null ┆ null ┆ 0    │\n",
       "│ addybo01  ┆ 1871   ┆ 1     ┆ RC1    ┆ … ┆ null ┆ null ┆ null ┆ 0    │\n",
       "│ allisar01 ┆ 1871   ┆ 1     ┆ CL1    ┆ … ┆ null ┆ null ┆ null ┆ 1    │\n",
       "│ allisdo01 ┆ 1871   ┆ 1     ┆ WS3    ┆ … ┆ null ┆ null ┆ null ┆ 0    │\n",
       "│ ansonca01 ┆ 1871   ┆ 1     ┆ RC1    ┆ … ┆ null ┆ null ┆ null ┆ 0    │\n",
       "└───────────┴────────┴───────┴────────┴───┴──────┴──────┴──────┴──────┘"
      ]
     },
     "execution_count": 23,
     "metadata": {},
     "output_type": "execute_result"
    }
   ],
   "source": [
    "batting = pl.read_csv(\"./sample_data/baseball/core/Batting.csv\")\n",
    "batting.head()"
   ]
  },
  {
   "cell_type": "code",
   "execution_count": 24,
   "id": "48fae7b6",
   "metadata": {},
   "outputs": [
    {
     "data": {
      "text/html": [
       "<div><style>\n",
       ".dataframe > thead > tr,\n",
       ".dataframe > tbody > tr {\n",
       "  text-align: right;\n",
       "  white-space: pre-wrap;\n",
       "}\n",
       "</style>\n",
       "<small>shape: (5, 48)</small><table border=\"1\" class=\"dataframe\"><thead><tr><th>yearID</th><th>lgID</th><th>teamID</th><th>franchID</th><th>divID</th><th>Rank</th><th>G</th><th>Ghome</th><th>W</th><th>L</th><th>DivWin</th><th>WCWin</th><th>LgWin</th><th>WSWin</th><th>R</th><th>AB</th><th>H</th><th>2B</th><th>3B</th><th>HR</th><th>BB</th><th>SO</th><th>SB</th><th>CS</th><th>HBP</th><th>SF</th><th>RA</th><th>ER</th><th>ERA</th><th>CG</th><th>SHO</th><th>SV</th><th>IPouts</th><th>HA</th><th>HRA</th><th>BBA</th><th>SOA</th><th>E</th><th>DP</th><th>FP</th><th>name</th><th>park</th><th>attendance</th><th>BPF</th><th>PPF</th><th>teamIDBR</th><th>teamIDlahman45</th><th>teamIDretro</th></tr><tr><td>i64</td><td>str</td><td>str</td><td>str</td><td>str</td><td>i64</td><td>i64</td><td>str</td><td>i64</td><td>i64</td><td>str</td><td>str</td><td>str</td><td>str</td><td>i64</td><td>i64</td><td>i64</td><td>i64</td><td>i64</td><td>i64</td><td>i64</td><td>i64</td><td>i64</td><td>i64</td><td>str</td><td>str</td><td>i64</td><td>i64</td><td>f64</td><td>i64</td><td>i64</td><td>i64</td><td>i64</td><td>i64</td><td>i64</td><td>i64</td><td>i64</td><td>i64</td><td>i64</td><td>f64</td><td>str</td><td>str</td><td>str</td><td>i64</td><td>i64</td><td>str</td><td>str</td><td>str</td></tr></thead><tbody><tr><td>1871</td><td>&quot;NA&quot;</td><td>&quot;BS1&quot;</td><td>&quot;BNA&quot;</td><td>null</td><td>3</td><td>31</td><td>null</td><td>20</td><td>10</td><td>null</td><td>null</td><td>&quot;N&quot;</td><td>null</td><td>401</td><td>1372</td><td>426</td><td>70</td><td>37</td><td>3</td><td>60</td><td>19</td><td>73</td><td>16</td><td>null</td><td>null</td><td>303</td><td>109</td><td>3.55</td><td>22</td><td>1</td><td>3</td><td>828</td><td>367</td><td>2</td><td>42</td><td>23</td><td>243</td><td>24</td><td>0.834</td><td>&quot;Boston Red Stockings&quot;</td><td>&quot;South End Grounds I&quot;</td><td>null</td><td>103</td><td>98</td><td>&quot;BOS&quot;</td><td>&quot;BS1&quot;</td><td>&quot;BS1&quot;</td></tr><tr><td>1871</td><td>&quot;NA&quot;</td><td>&quot;CH1&quot;</td><td>&quot;CNA&quot;</td><td>null</td><td>2</td><td>28</td><td>null</td><td>19</td><td>9</td><td>null</td><td>null</td><td>&quot;N&quot;</td><td>null</td><td>302</td><td>1196</td><td>323</td><td>52</td><td>21</td><td>10</td><td>60</td><td>22</td><td>69</td><td>21</td><td>null</td><td>null</td><td>241</td><td>77</td><td>2.76</td><td>25</td><td>0</td><td>1</td><td>753</td><td>308</td><td>6</td><td>28</td><td>22</td><td>229</td><td>16</td><td>0.829</td><td>&quot;Chicago White Stockings&quot;</td><td>&quot;Union Base-Ball Grounds&quot;</td><td>null</td><td>104</td><td>102</td><td>&quot;CHI&quot;</td><td>&quot;CH1&quot;</td><td>&quot;CH1&quot;</td></tr><tr><td>1871</td><td>&quot;NA&quot;</td><td>&quot;CL1&quot;</td><td>&quot;CFC&quot;</td><td>null</td><td>8</td><td>29</td><td>null</td><td>10</td><td>19</td><td>null</td><td>null</td><td>&quot;N&quot;</td><td>null</td><td>249</td><td>1186</td><td>328</td><td>35</td><td>40</td><td>7</td><td>26</td><td>25</td><td>18</td><td>8</td><td>null</td><td>null</td><td>341</td><td>116</td><td>4.11</td><td>23</td><td>0</td><td>0</td><td>762</td><td>346</td><td>13</td><td>53</td><td>34</td><td>234</td><td>15</td><td>0.818</td><td>&quot;Cleveland Forest Citys&quot;</td><td>&quot;National Association Grounds&quot;</td><td>null</td><td>96</td><td>100</td><td>&quot;CLE&quot;</td><td>&quot;CL1&quot;</td><td>&quot;CL1&quot;</td></tr><tr><td>1871</td><td>&quot;NA&quot;</td><td>&quot;FW1&quot;</td><td>&quot;KEK&quot;</td><td>null</td><td>7</td><td>19</td><td>null</td><td>7</td><td>12</td><td>null</td><td>null</td><td>&quot;N&quot;</td><td>null</td><td>137</td><td>746</td><td>178</td><td>19</td><td>8</td><td>2</td><td>33</td><td>9</td><td>16</td><td>4</td><td>null</td><td>null</td><td>243</td><td>97</td><td>5.17</td><td>19</td><td>1</td><td>0</td><td>507</td><td>261</td><td>5</td><td>21</td><td>17</td><td>163</td><td>8</td><td>0.803</td><td>&quot;Fort Wayne Kekiongas&quot;</td><td>&quot;Hamilton Field&quot;</td><td>null</td><td>101</td><td>107</td><td>&quot;KEK&quot;</td><td>&quot;FW1&quot;</td><td>&quot;FW1&quot;</td></tr><tr><td>1871</td><td>&quot;NA&quot;</td><td>&quot;NY2&quot;</td><td>&quot;NNA&quot;</td><td>null</td><td>5</td><td>33</td><td>null</td><td>16</td><td>17</td><td>null</td><td>null</td><td>&quot;N&quot;</td><td>null</td><td>302</td><td>1404</td><td>403</td><td>43</td><td>21</td><td>1</td><td>33</td><td>15</td><td>46</td><td>15</td><td>null</td><td>null</td><td>313</td><td>121</td><td>3.72</td><td>32</td><td>1</td><td>0</td><td>879</td><td>373</td><td>7</td><td>42</td><td>22</td><td>235</td><td>14</td><td>0.84</td><td>&quot;New York Mutuals&quot;</td><td>&quot;Union Grounds (Brooklyn)&quot;</td><td>null</td><td>90</td><td>88</td><td>&quot;NYU&quot;</td><td>&quot;NY2&quot;</td><td>&quot;NY2&quot;</td></tr></tbody></table></div>"
      ],
      "text/plain": [
       "shape: (5, 48)\n",
       "┌────────┬──────┬────────┬──────────┬───┬─────┬──────────┬────────────────┬─────────────┐\n",
       "│ yearID ┆ lgID ┆ teamID ┆ franchID ┆ … ┆ PPF ┆ teamIDBR ┆ teamIDlahman45 ┆ teamIDretro │\n",
       "│ ---    ┆ ---  ┆ ---    ┆ ---      ┆   ┆ --- ┆ ---      ┆ ---            ┆ ---         │\n",
       "│ i64    ┆ str  ┆ str    ┆ str      ┆   ┆ i64 ┆ str      ┆ str            ┆ str         │\n",
       "╞════════╪══════╪════════╪══════════╪═══╪═════╪══════════╪════════════════╪═════════════╡\n",
       "│ 1871   ┆ NA   ┆ BS1    ┆ BNA      ┆ … ┆ 98  ┆ BOS      ┆ BS1            ┆ BS1         │\n",
       "│ 1871   ┆ NA   ┆ CH1    ┆ CNA      ┆ … ┆ 102 ┆ CHI      ┆ CH1            ┆ CH1         │\n",
       "│ 1871   ┆ NA   ┆ CL1    ┆ CFC      ┆ … ┆ 100 ┆ CLE      ┆ CL1            ┆ CL1         │\n",
       "│ 1871   ┆ NA   ┆ FW1    ┆ KEK      ┆ … ┆ 107 ┆ KEK      ┆ FW1            ┆ FW1         │\n",
       "│ 1871   ┆ NA   ┆ NY2    ┆ NNA      ┆ … ┆ 88  ┆ NYU      ┆ NY2            ┆ NY2         │\n",
       "└────────┴──────┴────────┴──────────┴───┴─────┴──────────┴────────────────┴─────────────┘"
      ]
     },
     "execution_count": 24,
     "metadata": {},
     "output_type": "execute_result"
    }
   ],
   "source": [
    "teams = pl.read_csv(\"./sample_data/baseball/core/Teams.csv\")\n",
    "teams.head()"
   ]
  },
  {
   "cell_type": "markdown",
   "id": "e7517e07",
   "metadata": {},
   "source": [
    "## Things we need from `Batting.csv`\n",
    "\n",
    "* Year\n",
    "* Runs\n",
    "* Team"
   ]
  },
  {
   "cell_type": "code",
   "execution_count": 25,
   "id": "b9c81f54",
   "metadata": {
    "scrolled": true
   },
   "outputs": [
    {
     "data": {
      "text/html": [
       "<div><style>\n",
       ".dataframe > thead > tr,\n",
       ".dataframe > tbody > tr {\n",
       "  text-align: right;\n",
       "  white-space: pre-wrap;\n",
       "}\n",
       "</style>\n",
       "<small>shape: (2, 22)</small><table border=\"1\" class=\"dataframe\"><thead><tr><th>playerID</th><th>yearID</th><th>stint</th><th>teamID</th><th>lgID</th><th>G</th><th>AB</th><th>R</th><th>H</th><th>2B</th><th>3B</th><th>HR</th><th>RBI</th><th>SB</th><th>CS</th><th>BB</th><th>SO</th><th>IBB</th><th>HBP</th><th>SH</th><th>SF</th><th>GIDP</th></tr><tr><td>str</td><td>i64</td><td>i64</td><td>str</td><td>str</td><td>i64</td><td>i64</td><td>i64</td><td>i64</td><td>i64</td><td>i64</td><td>i64</td><td>i64</td><td>i64</td><td>i64</td><td>i64</td><td>i64</td><td>str</td><td>str</td><td>str</td><td>str</td><td>i64</td></tr></thead><tbody><tr><td>&quot;abercda01&quot;</td><td>1871</td><td>1</td><td>&quot;TRO&quot;</td><td>&quot;NA&quot;</td><td>1</td><td>4</td><td>0</td><td>0</td><td>0</td><td>0</td><td>0</td><td>0</td><td>0</td><td>0</td><td>0</td><td>0</td><td>null</td><td>null</td><td>null</td><td>null</td><td>0</td></tr><tr><td>&quot;addybo01&quot;</td><td>1871</td><td>1</td><td>&quot;RC1&quot;</td><td>&quot;NA&quot;</td><td>25</td><td>118</td><td>30</td><td>32</td><td>6</td><td>0</td><td>0</td><td>13</td><td>8</td><td>1</td><td>4</td><td>0</td><td>null</td><td>null</td><td>null</td><td>null</td><td>0</td></tr></tbody></table></div>"
      ],
      "text/plain": [
       "shape: (2, 22)\n",
       "┌───────────┬────────┬───────┬────────┬───┬──────┬──────┬──────┬──────┐\n",
       "│ playerID  ┆ yearID ┆ stint ┆ teamID ┆ … ┆ HBP  ┆ SH   ┆ SF   ┆ GIDP │\n",
       "│ ---       ┆ ---    ┆ ---   ┆ ---    ┆   ┆ ---  ┆ ---  ┆ ---  ┆ ---  │\n",
       "│ str       ┆ i64    ┆ i64   ┆ str    ┆   ┆ str  ┆ str  ┆ str  ┆ i64  │\n",
       "╞═══════════╪════════╪═══════╪════════╪═══╪══════╪══════╪══════╪══════╡\n",
       "│ abercda01 ┆ 1871   ┆ 1     ┆ TRO    ┆ … ┆ null ┆ null ┆ null ┆ 0    │\n",
       "│ addybo01  ┆ 1871   ┆ 1     ┆ RC1    ┆ … ┆ null ┆ null ┆ null ┆ 0    │\n",
       "└───────────┴────────┴───────┴────────┴───┴──────┴──────┴──────┴──────┘"
      ]
     },
     "execution_count": 25,
     "metadata": {},
     "output_type": "execute_result"
    }
   ],
   "source": [
    "batting.head(2)"
   ]
  },
  {
   "cell_type": "markdown",
   "id": "4b9f507b",
   "metadata": {},
   "source": [
    "#### Selecting down to the necessary columns"
   ]
  },
  {
   "cell_type": "code",
   "execution_count": 26,
   "id": "7d763545",
   "metadata": {},
   "outputs": [
    {
     "data": {
      "text/html": [
       "<div><style>\n",
       ".dataframe > thead > tr,\n",
       ".dataframe > tbody > tr {\n",
       "  text-align: right;\n",
       "  white-space: pre-wrap;\n",
       "}\n",
       "</style>\n",
       "<small>shape: (5, 3)</small><table border=\"1\" class=\"dataframe\"><thead><tr><th>teamID</th><th>yearID</th><th>R</th></tr><tr><td>str</td><td>i64</td><td>i64</td></tr></thead><tbody><tr><td>&quot;TRO&quot;</td><td>1871</td><td>0</td></tr><tr><td>&quot;RC1&quot;</td><td>1871</td><td>30</td></tr><tr><td>&quot;CL1&quot;</td><td>1871</td><td>28</td></tr><tr><td>&quot;WS3&quot;</td><td>1871</td><td>28</td></tr><tr><td>&quot;RC1&quot;</td><td>1871</td><td>29</td></tr></tbody></table></div>"
      ],
      "text/plain": [
       "shape: (5, 3)\n",
       "┌────────┬────────┬─────┐\n",
       "│ teamID ┆ yearID ┆ R   │\n",
       "│ ---    ┆ ---    ┆ --- │\n",
       "│ str    ┆ i64    ┆ i64 │\n",
       "╞════════╪════════╪═════╡\n",
       "│ TRO    ┆ 1871   ┆ 0   │\n",
       "│ RC1    ┆ 1871   ┆ 30  │\n",
       "│ CL1    ┆ 1871   ┆ 28  │\n",
       "│ WS3    ┆ 1871   ┆ 28  │\n",
       "│ RC1    ┆ 1871   ┆ 29  │\n",
       "└────────┴────────┴─────┘"
      ]
     },
     "execution_count": 26,
     "metadata": {},
     "output_type": "execute_result"
    }
   ],
   "source": [
    "batting_select = (batting\n",
    "                  .select(['teamID',\n",
    "                           'yearID',\n",
    "                           'R'])\n",
    "                 )\n",
    "batting_select.head()"
   ]
  },
  {
   "cell_type": "code",
   "execution_count": 27,
   "id": "abda9540",
   "metadata": {},
   "outputs": [
    {
     "data": {
      "text/plain": [
       "(107429, 3)"
      ]
     },
     "execution_count": 27,
     "metadata": {},
     "output_type": "execute_result"
    }
   ],
   "source": [
    "batting_select.shape"
   ]
  },
  {
   "cell_type": "markdown",
   "id": "9b9bba04",
   "metadata": {},
   "source": [
    "## Things we need from `Teams.csv`\n",
    "\n",
    "* Year\n",
    "* Runs\n",
    "* Team"
   ]
  },
  {
   "cell_type": "code",
   "execution_count": 28,
   "id": "f9f71cc6",
   "metadata": {
    "scrolled": true
   },
   "outputs": [
    {
     "data": {
      "text/html": [
       "<div><style>\n",
       ".dataframe > thead > tr,\n",
       ".dataframe > tbody > tr {\n",
       "  text-align: right;\n",
       "  white-space: pre-wrap;\n",
       "}\n",
       "</style>\n",
       "<small>shape: (2, 48)</small><table border=\"1\" class=\"dataframe\"><thead><tr><th>yearID</th><th>lgID</th><th>teamID</th><th>franchID</th><th>divID</th><th>Rank</th><th>G</th><th>Ghome</th><th>W</th><th>L</th><th>DivWin</th><th>WCWin</th><th>LgWin</th><th>WSWin</th><th>R</th><th>AB</th><th>H</th><th>2B</th><th>3B</th><th>HR</th><th>BB</th><th>SO</th><th>SB</th><th>CS</th><th>HBP</th><th>SF</th><th>RA</th><th>ER</th><th>ERA</th><th>CG</th><th>SHO</th><th>SV</th><th>IPouts</th><th>HA</th><th>HRA</th><th>BBA</th><th>SOA</th><th>E</th><th>DP</th><th>FP</th><th>name</th><th>park</th><th>attendance</th><th>BPF</th><th>PPF</th><th>teamIDBR</th><th>teamIDlahman45</th><th>teamIDretro</th></tr><tr><td>i64</td><td>str</td><td>str</td><td>str</td><td>str</td><td>i64</td><td>i64</td><td>str</td><td>i64</td><td>i64</td><td>str</td><td>str</td><td>str</td><td>str</td><td>i64</td><td>i64</td><td>i64</td><td>i64</td><td>i64</td><td>i64</td><td>i64</td><td>i64</td><td>i64</td><td>i64</td><td>str</td><td>str</td><td>i64</td><td>i64</td><td>f64</td><td>i64</td><td>i64</td><td>i64</td><td>i64</td><td>i64</td><td>i64</td><td>i64</td><td>i64</td><td>i64</td><td>i64</td><td>f64</td><td>str</td><td>str</td><td>str</td><td>i64</td><td>i64</td><td>str</td><td>str</td><td>str</td></tr></thead><tbody><tr><td>1871</td><td>&quot;NA&quot;</td><td>&quot;BS1&quot;</td><td>&quot;BNA&quot;</td><td>null</td><td>3</td><td>31</td><td>null</td><td>20</td><td>10</td><td>null</td><td>null</td><td>&quot;N&quot;</td><td>null</td><td>401</td><td>1372</td><td>426</td><td>70</td><td>37</td><td>3</td><td>60</td><td>19</td><td>73</td><td>16</td><td>null</td><td>null</td><td>303</td><td>109</td><td>3.55</td><td>22</td><td>1</td><td>3</td><td>828</td><td>367</td><td>2</td><td>42</td><td>23</td><td>243</td><td>24</td><td>0.834</td><td>&quot;Boston Red Stockings&quot;</td><td>&quot;South End Grounds I&quot;</td><td>null</td><td>103</td><td>98</td><td>&quot;BOS&quot;</td><td>&quot;BS1&quot;</td><td>&quot;BS1&quot;</td></tr><tr><td>1871</td><td>&quot;NA&quot;</td><td>&quot;CH1&quot;</td><td>&quot;CNA&quot;</td><td>null</td><td>2</td><td>28</td><td>null</td><td>19</td><td>9</td><td>null</td><td>null</td><td>&quot;N&quot;</td><td>null</td><td>302</td><td>1196</td><td>323</td><td>52</td><td>21</td><td>10</td><td>60</td><td>22</td><td>69</td><td>21</td><td>null</td><td>null</td><td>241</td><td>77</td><td>2.76</td><td>25</td><td>0</td><td>1</td><td>753</td><td>308</td><td>6</td><td>28</td><td>22</td><td>229</td><td>16</td><td>0.829</td><td>&quot;Chicago White Stockings&quot;</td><td>&quot;Union Base-Ball Grounds&quot;</td><td>null</td><td>104</td><td>102</td><td>&quot;CHI&quot;</td><td>&quot;CH1&quot;</td><td>&quot;CH1&quot;</td></tr></tbody></table></div>"
      ],
      "text/plain": [
       "shape: (2, 48)\n",
       "┌────────┬──────┬────────┬──────────┬───┬─────┬──────────┬────────────────┬─────────────┐\n",
       "│ yearID ┆ lgID ┆ teamID ┆ franchID ┆ … ┆ PPF ┆ teamIDBR ┆ teamIDlahman45 ┆ teamIDretro │\n",
       "│ ---    ┆ ---  ┆ ---    ┆ ---      ┆   ┆ --- ┆ ---      ┆ ---            ┆ ---         │\n",
       "│ i64    ┆ str  ┆ str    ┆ str      ┆   ┆ i64 ┆ str      ┆ str            ┆ str         │\n",
       "╞════════╪══════╪════════╪══════════╪═══╪═════╪══════════╪════════════════╪═════════════╡\n",
       "│ 1871   ┆ NA   ┆ BS1    ┆ BNA      ┆ … ┆ 98  ┆ BOS      ┆ BS1            ┆ BS1         │\n",
       "│ 1871   ┆ NA   ┆ CH1    ┆ CNA      ┆ … ┆ 102 ┆ CHI      ┆ CH1            ┆ CH1         │\n",
       "└────────┴──────┴────────┴──────────┴───┴─────┴──────────┴────────────────┴─────────────┘"
      ]
     },
     "execution_count": 28,
     "metadata": {},
     "output_type": "execute_result"
    }
   ],
   "source": [
    "teams.head(2)"
   ]
  },
  {
   "cell_type": "markdown",
   "id": "9c048e2a",
   "metadata": {},
   "source": [
    "#### Selecting down to the necessary columns"
   ]
  },
  {
   "cell_type": "code",
   "execution_count": 29,
   "id": "89088a93",
   "metadata": {
    "scrolled": true
   },
   "outputs": [
    {
     "data": {
      "text/html": [
       "<div><style>\n",
       ".dataframe > thead > tr,\n",
       ".dataframe > tbody > tr {\n",
       "  text-align: right;\n",
       "  white-space: pre-wrap;\n",
       "}\n",
       "</style>\n",
       "<small>shape: (5, 4)</small><table border=\"1\" class=\"dataframe\"><thead><tr><th>yearID</th><th>teamID</th><th>name</th><th>park</th></tr><tr><td>i64</td><td>str</td><td>str</td><td>str</td></tr></thead><tbody><tr><td>1871</td><td>&quot;BS1&quot;</td><td>&quot;Boston Red Stockings&quot;</td><td>&quot;South End Grounds I&quot;</td></tr><tr><td>1871</td><td>&quot;CH1&quot;</td><td>&quot;Chicago White Stockings&quot;</td><td>&quot;Union Base-Ball Grounds&quot;</td></tr><tr><td>1871</td><td>&quot;CL1&quot;</td><td>&quot;Cleveland Forest Citys&quot;</td><td>&quot;National Association Grounds&quot;</td></tr><tr><td>1871</td><td>&quot;FW1&quot;</td><td>&quot;Fort Wayne Kekiongas&quot;</td><td>&quot;Hamilton Field&quot;</td></tr><tr><td>1871</td><td>&quot;NY2&quot;</td><td>&quot;New York Mutuals&quot;</td><td>&quot;Union Grounds (Brooklyn)&quot;</td></tr></tbody></table></div>"
      ],
      "text/plain": [
       "shape: (5, 4)\n",
       "┌────────┬────────┬─────────────────────────┬──────────────────────────────┐\n",
       "│ yearID ┆ teamID ┆ name                    ┆ park                         │\n",
       "│ ---    ┆ ---    ┆ ---                     ┆ ---                          │\n",
       "│ i64    ┆ str    ┆ str                     ┆ str                          │\n",
       "╞════════╪════════╪═════════════════════════╪══════════════════════════════╡\n",
       "│ 1871   ┆ BS1    ┆ Boston Red Stockings    ┆ South End Grounds I          │\n",
       "│ 1871   ┆ CH1    ┆ Chicago White Stockings ┆ Union Base-Ball Grounds      │\n",
       "│ 1871   ┆ CL1    ┆ Cleveland Forest Citys  ┆ National Association Grounds │\n",
       "│ 1871   ┆ FW1    ┆ Fort Wayne Kekiongas    ┆ Hamilton Field               │\n",
       "│ 1871   ┆ NY2    ┆ New York Mutuals        ┆ Union Grounds (Brooklyn)     │\n",
       "└────────┴────────┴─────────────────────────┴──────────────────────────────┘"
      ]
     },
     "execution_count": 29,
     "metadata": {},
     "output_type": "execute_result"
    }
   ],
   "source": [
    "teams_select = (teams.select(['yearID',\n",
    "                              'teamID',\n",
    "                              'name',\n",
    "                              'park',\n",
    "                             ]))\n",
    "teams_select.head()"
   ]
  },
  {
   "cell_type": "code",
   "execution_count": 30,
   "id": "b3667d9e",
   "metadata": {},
   "outputs": [
    {
     "data": {
      "text/plain": [
       "(2925, 4)"
      ]
     },
     "execution_count": 30,
     "metadata": {},
     "output_type": "execute_result"
    }
   ],
   "source": [
    "teams_select.shape"
   ]
  },
  {
   "cell_type": "markdown",
   "id": "8aa6a725",
   "metadata": {},
   "source": [
    "## How can we match these columns?\n",
    "\n",
    "We will need to match on both `teamID` and `yearID` because\n",
    "\n",
    "1. Team names might change\n",
    "2. The teams park depends on the year."
   ]
  },
  {
   "cell_type": "markdown",
   "id": "3f525984",
   "metadata": {},
   "source": [
    "## Determining the correct join.\n",
    "\n",
    "Facts of the task:\n",
    "\n",
    "* We want batting statistics for all players in 2009\n",
    "* We want only teams names and parks for teams that played that year.\n",
    "\n",
    "**Question:** Which join? \n",
    "**Answer:** `batting >> left_join(teams)` on both year and "
   ]
  },
  {
   "cell_type": "markdown",
   "id": "f5299162",
   "metadata": {},
   "source": [
    "## How to join on multiple columns\n",
    "\n",
    "Pass a list of columns names to `on`"
   ]
  },
  {
   "cell_type": "code",
   "execution_count": 32,
   "id": "9a3b269c",
   "metadata": {},
   "outputs": [
    {
     "data": {
      "text/html": [
       "<div><style>\n",
       ".dataframe > thead > tr,\n",
       ".dataframe > tbody > tr {\n",
       "  text-align: right;\n",
       "  white-space: pre-wrap;\n",
       "}\n",
       "</style>\n",
       "<small>shape: (5, 5)</small><table border=\"1\" class=\"dataframe\"><thead><tr><th>teamID</th><th>yearID</th><th>R</th><th>name</th><th>park</th></tr><tr><td>str</td><td>i64</td><td>i64</td><td>str</td><td>str</td></tr></thead><tbody><tr><td>&quot;TRO&quot;</td><td>1871</td><td>0</td><td>&quot;Troy Haymakers&quot;</td><td>&quot;Haymakers&#x27; Grounds&quot;</td></tr><tr><td>&quot;RC1&quot;</td><td>1871</td><td>30</td><td>&quot;Rockford Forest Citys&quot;</td><td>&quot;Agricultural Society Fair Grou…</td></tr><tr><td>&quot;CL1&quot;</td><td>1871</td><td>28</td><td>&quot;Cleveland Forest Citys&quot;</td><td>&quot;National Association Grounds&quot;</td></tr><tr><td>&quot;WS3&quot;</td><td>1871</td><td>28</td><td>&quot;Washington Olympics&quot;</td><td>&quot;Olympics Grounds&quot;</td></tr><tr><td>&quot;RC1&quot;</td><td>1871</td><td>29</td><td>&quot;Rockford Forest Citys&quot;</td><td>&quot;Agricultural Society Fair Grou…</td></tr></tbody></table></div>"
      ],
      "text/plain": [
       "shape: (5, 5)\n",
       "┌────────┬────────┬─────┬────────────────────────┬─────────────────────────────────┐\n",
       "│ teamID ┆ yearID ┆ R   ┆ name                   ┆ park                            │\n",
       "│ ---    ┆ ---    ┆ --- ┆ ---                    ┆ ---                             │\n",
       "│ str    ┆ i64    ┆ i64 ┆ str                    ┆ str                             │\n",
       "╞════════╪════════╪═════╪════════════════════════╪═════════════════════════════════╡\n",
       "│ TRO    ┆ 1871   ┆ 0   ┆ Troy Haymakers         ┆ Haymakers' Grounds              │\n",
       "│ RC1    ┆ 1871   ┆ 30  ┆ Rockford Forest Citys  ┆ Agricultural Society Fair Grou… │\n",
       "│ CL1    ┆ 1871   ┆ 28  ┆ Cleveland Forest Citys ┆ National Association Grounds    │\n",
       "│ WS3    ┆ 1871   ┆ 28  ┆ Washington Olympics    ┆ Olympics Grounds                │\n",
       "│ RC1    ┆ 1871   ┆ 29  ┆ Rockford Forest Citys  ┆ Agricultural Society Fair Grou… │\n",
       "└────────┴────────┴─────┴────────────────────────┴─────────────────────────────────┘"
      ]
     },
     "execution_count": 32,
     "metadata": {},
     "output_type": "execute_result"
    }
   ],
   "source": [
    "df_joined = batting_select.join(teams_select, on=['teamID', 'yearID'], how='left')\n",
    "df_joined.head()"
   ]
  },
  {
   "cell_type": "code",
   "execution_count": 34,
   "id": "b7e08c34",
   "metadata": {},
   "outputs": [
    {
     "data": {
      "text/plain": [
       "(107429, 5)"
      ]
     },
     "execution_count": 34,
     "metadata": {},
     "output_type": "execute_result"
    }
   ],
   "source": [
    "df_joined.shape"
   ]
  },
  {
   "cell_type": "markdown",
   "id": "07e855b3",
   "metadata": {},
   "source": [
    "#### Filter, group by, and aggregate to get the desired result."
   ]
  },
  {
   "cell_type": "code",
   "execution_count": 35,
   "id": "54e99fa7",
   "metadata": {},
   "outputs": [
    {
     "data": {
      "text/html": [
       "<div><style>\n",
       ".dataframe > thead > tr,\n",
       ".dataframe > tbody > tr {\n",
       "  text-align: right;\n",
       "  white-space: pre-wrap;\n",
       "}\n",
       "</style>\n",
       "<small>shape: (5, 3)</small><table border=\"1\" class=\"dataframe\"><thead><tr><th>name</th><th>park</th><th>total_runs</th></tr><tr><td>str</td><td>str</td><td>i64</td></tr></thead><tbody><tr><td>&quot;Houston Astros&quot;</td><td>&quot;Minute Maid Park&quot;</td><td>643</td></tr><tr><td>&quot;Florida Marlins&quot;</td><td>&quot;Dolphin Stadium&quot;</td><td>772</td></tr><tr><td>&quot;New York Mets&quot;</td><td>&quot;Citi Field&quot;</td><td>671</td></tr><tr><td>&quot;Washington Nationals&quot;</td><td>&quot;Nationals Park&quot;</td><td>710</td></tr><tr><td>&quot;Tampa Bay Rays&quot;</td><td>&quot;Tropicana Field&quot;</td><td>803</td></tr></tbody></table></div>"
      ],
      "text/plain": [
       "shape: (5, 3)\n",
       "┌──────────────────────┬──────────────────┬────────────┐\n",
       "│ name                 ┆ park             ┆ total_runs │\n",
       "│ ---                  ┆ ---              ┆ ---        │\n",
       "│ str                  ┆ str              ┆ i64        │\n",
       "╞══════════════════════╪══════════════════╪════════════╡\n",
       "│ Houston Astros       ┆ Minute Maid Park ┆ 643        │\n",
       "│ Florida Marlins      ┆ Dolphin Stadium  ┆ 772        │\n",
       "│ New York Mets        ┆ Citi Field       ┆ 671        │\n",
       "│ Washington Nationals ┆ Nationals Park   ┆ 710        │\n",
       "│ Tampa Bay Rays       ┆ Tropicana Field  ┆ 803        │\n",
       "└──────────────────────┴──────────────────┴────────────┘"
      ]
     },
     "execution_count": 35,
     "metadata": {},
     "output_type": "execute_result"
    }
   ],
   "source": [
    "runs_per_team09 = (df_joined\n",
    "                   .filter(pl.col('yearID') == 2009)\n",
    "                   .group_by([pl.col('name'), pl.col('park')])\n",
    "                   .agg(pl.col('R').sum().alias('total_runs')))\n",
    "runs_per_team09.head()"
   ]
  },
  {
   "cell_type": "code",
   "execution_count": 36,
   "id": "70b7edf0",
   "metadata": {},
   "outputs": [
    {
     "data": {
      "text/plain": [
       "(30, 3)"
      ]
     },
     "execution_count": 36,
     "metadata": {},
     "output_type": "execute_result"
    }
   ],
   "source": [
    "runs_per_team09.shape"
   ]
  },
  {
   "cell_type": "markdown",
   "id": "fb328867-3940-4c41-8711-3f15a9a82456",
   "metadata": {
    "slideshow": {
     "slide_type": "slide"
    }
   },
   "source": [
    "## <font color=\"red\"> Exercise 7.3.2 </font>\n",
    "\n",
    "Determine all the players that have hit more than 30 home runs in a season.  The final table should include the players proper name, as well as the team name.  \n",
    "\n",
    "**Hint:** You will need join the `Batting.csv`, `People.csv`, and `Teams.csv` files.  To get credit for this exercise, use the join methods presented above."
   ]
  },
  {
   "cell_type": "code",
   "execution_count": 7,
   "id": "ad81a55b-40f0-4465-a200-e8a7eb6c80d2",
   "metadata": {},
   "outputs": [
    {
     "data": {
      "text/html": [
       "<div><style>\n",
       ".dataframe > thead > tr,\n",
       ".dataframe > tbody > tr {\n",
       "  text-align: right;\n",
       "  white-space: pre-wrap;\n",
       "}\n",
       "</style>\n",
       "<small>shape: (5, 22)</small><table border=\"1\" class=\"dataframe\"><thead><tr><th>playerID</th><th>yearID</th><th>stint</th><th>teamID</th><th>lgID</th><th>G</th><th>AB</th><th>R</th><th>H</th><th>2B</th><th>3B</th><th>HR</th><th>RBI</th><th>SB</th><th>CS</th><th>BB</th><th>SO</th><th>IBB</th><th>HBP</th><th>SH</th><th>SF</th><th>GIDP</th></tr><tr><td>str</td><td>i64</td><td>i64</td><td>str</td><td>str</td><td>i64</td><td>i64</td><td>i64</td><td>i64</td><td>i64</td><td>i64</td><td>i64</td><td>i64</td><td>i64</td><td>i64</td><td>i64</td><td>i64</td><td>str</td><td>str</td><td>str</td><td>str</td><td>i64</td></tr></thead><tbody><tr><td>&quot;abercda01&quot;</td><td>1871</td><td>1</td><td>&quot;TRO&quot;</td><td>&quot;NA&quot;</td><td>1</td><td>4</td><td>0</td><td>0</td><td>0</td><td>0</td><td>0</td><td>0</td><td>0</td><td>0</td><td>0</td><td>0</td><td>null</td><td>null</td><td>null</td><td>null</td><td>0</td></tr><tr><td>&quot;addybo01&quot;</td><td>1871</td><td>1</td><td>&quot;RC1&quot;</td><td>&quot;NA&quot;</td><td>25</td><td>118</td><td>30</td><td>32</td><td>6</td><td>0</td><td>0</td><td>13</td><td>8</td><td>1</td><td>4</td><td>0</td><td>null</td><td>null</td><td>null</td><td>null</td><td>0</td></tr><tr><td>&quot;allisar01&quot;</td><td>1871</td><td>1</td><td>&quot;CL1&quot;</td><td>&quot;NA&quot;</td><td>29</td><td>137</td><td>28</td><td>40</td><td>4</td><td>5</td><td>0</td><td>19</td><td>3</td><td>1</td><td>2</td><td>5</td><td>null</td><td>null</td><td>null</td><td>null</td><td>1</td></tr><tr><td>&quot;allisdo01&quot;</td><td>1871</td><td>1</td><td>&quot;WS3&quot;</td><td>&quot;NA&quot;</td><td>27</td><td>133</td><td>28</td><td>44</td><td>10</td><td>2</td><td>2</td><td>27</td><td>1</td><td>1</td><td>0</td><td>2</td><td>null</td><td>null</td><td>null</td><td>null</td><td>0</td></tr><tr><td>&quot;ansonca01&quot;</td><td>1871</td><td>1</td><td>&quot;RC1&quot;</td><td>&quot;NA&quot;</td><td>25</td><td>120</td><td>29</td><td>39</td><td>11</td><td>3</td><td>0</td><td>16</td><td>6</td><td>2</td><td>2</td><td>1</td><td>null</td><td>null</td><td>null</td><td>null</td><td>0</td></tr></tbody></table></div>"
      ],
      "text/plain": [
       "shape: (5, 22)\n",
       "┌───────────┬────────┬───────┬────────┬───┬──────┬──────┬──────┬──────┐\n",
       "│ playerID  ┆ yearID ┆ stint ┆ teamID ┆ … ┆ HBP  ┆ SH   ┆ SF   ┆ GIDP │\n",
       "│ ---       ┆ ---    ┆ ---   ┆ ---    ┆   ┆ ---  ┆ ---  ┆ ---  ┆ ---  │\n",
       "│ str       ┆ i64    ┆ i64   ┆ str    ┆   ┆ str  ┆ str  ┆ str  ┆ i64  │\n",
       "╞═══════════╪════════╪═══════╪════════╪═══╪══════╪══════╪══════╪══════╡\n",
       "│ abercda01 ┆ 1871   ┆ 1     ┆ TRO    ┆ … ┆ null ┆ null ┆ null ┆ 0    │\n",
       "│ addybo01  ┆ 1871   ┆ 1     ┆ RC1    ┆ … ┆ null ┆ null ┆ null ┆ 0    │\n",
       "│ allisar01 ┆ 1871   ┆ 1     ┆ CL1    ┆ … ┆ null ┆ null ┆ null ┆ 1    │\n",
       "│ allisdo01 ┆ 1871   ┆ 1     ┆ WS3    ┆ … ┆ null ┆ null ┆ null ┆ 0    │\n",
       "│ ansonca01 ┆ 1871   ┆ 1     ┆ RC1    ┆ … ┆ null ┆ null ┆ null ┆ 0    │\n",
       "└───────────┴────────┴───────┴────────┴───┴──────┴──────┴──────┴──────┘"
      ]
     },
     "execution_count": 7,
     "metadata": {},
     "output_type": "execute_result"
    }
   ],
   "source": [
    "# Your code here\n",
    "Batting = pl.read_csv('./sample_data/baseball/core/Batting.csv')\n",
    "Batting.head()"
   ]
  },
  {
   "cell_type": "code",
   "execution_count": 19,
   "id": "addac80d-93da-48bc-8d56-080684eed8d7",
   "metadata": {},
   "outputs": [
    {
     "data": {
      "text/html": [
       "<div><style>\n",
       ".dataframe > thead > tr,\n",
       ".dataframe > tbody > tr {\n",
       "  text-align: right;\n",
       "  white-space: pre-wrap;\n",
       "}\n",
       "</style>\n",
       "<small>shape: (5, 2)</small><table border=\"1\" class=\"dataframe\"><thead><tr><th>playerID</th><th>nameGiven</th></tr><tr><td>str</td><td>str</td></tr></thead><tbody><tr><td>&quot;aardsda01&quot;</td><td>&quot;David Allan&quot;</td></tr><tr><td>&quot;aaronha01&quot;</td><td>&quot;Henry Louis&quot;</td></tr><tr><td>&quot;aaronto01&quot;</td><td>&quot;Tommie Lee&quot;</td></tr><tr><td>&quot;aasedo01&quot;</td><td>&quot;Donald William&quot;</td></tr><tr><td>&quot;abadan01&quot;</td><td>&quot;Fausto Andres&quot;</td></tr></tbody></table></div>"
      ],
      "text/plain": [
       "shape: (5, 2)\n",
       "┌───────────┬────────────────┐\n",
       "│ playerID  ┆ nameGiven      │\n",
       "│ ---       ┆ ---            │\n",
       "│ str       ┆ str            │\n",
       "╞═══════════╪════════════════╡\n",
       "│ aardsda01 ┆ David Allan    │\n",
       "│ aaronha01 ┆ Henry Louis    │\n",
       "│ aaronto01 ┆ Tommie Lee     │\n",
       "│ aasedo01  ┆ Donald William │\n",
       "│ abadan01  ┆ Fausto Andres  │\n",
       "└───────────┴────────────────┘"
      ]
     },
     "execution_count": 19,
     "metadata": {},
     "output_type": "execute_result"
    }
   ],
   "source": [
    "People = pl.read_csv('./sample_data/baseball/core/People.csv')\n",
    "People_short = (People\n",
    "                 .select(['playerID','nameGiven']))\n",
    "People_short.head()"
   ]
  },
  {
   "cell_type": "code",
   "execution_count": 23,
   "id": "ece1bd19-4829-442c-b695-0bb0a24bbf20",
   "metadata": {},
   "outputs": [
    {
     "data": {
      "text/html": [
       "<div><style>\n",
       ".dataframe > thead > tr,\n",
       ".dataframe > tbody > tr {\n",
       "  text-align: right;\n",
       "  white-space: pre-wrap;\n",
       "}\n",
       "</style>\n",
       "<small>shape: (5, 3)</small><table border=\"1\" class=\"dataframe\"><thead><tr><th>yearID</th><th>teamID</th><th>name</th></tr><tr><td>i64</td><td>str</td><td>str</td></tr></thead><tbody><tr><td>1871</td><td>&quot;BS1&quot;</td><td>&quot;Boston Red Stockings&quot;</td></tr><tr><td>1871</td><td>&quot;CH1&quot;</td><td>&quot;Chicago White Stockings&quot;</td></tr><tr><td>1871</td><td>&quot;CL1&quot;</td><td>&quot;Cleveland Forest Citys&quot;</td></tr><tr><td>1871</td><td>&quot;FW1&quot;</td><td>&quot;Fort Wayne Kekiongas&quot;</td></tr><tr><td>1871</td><td>&quot;NY2&quot;</td><td>&quot;New York Mutuals&quot;</td></tr></tbody></table></div>"
      ],
      "text/plain": [
       "shape: (5, 3)\n",
       "┌────────┬────────┬─────────────────────────┐\n",
       "│ yearID ┆ teamID ┆ name                    │\n",
       "│ ---    ┆ ---    ┆ ---                     │\n",
       "│ i64    ┆ str    ┆ str                     │\n",
       "╞════════╪════════╪═════════════════════════╡\n",
       "│ 1871   ┆ BS1    ┆ Boston Red Stockings    │\n",
       "│ 1871   ┆ CH1    ┆ Chicago White Stockings │\n",
       "│ 1871   ┆ CL1    ┆ Cleveland Forest Citys  │\n",
       "│ 1871   ┆ FW1    ┆ Fort Wayne Kekiongas    │\n",
       "│ 1871   ┆ NY2    ┆ New York Mutuals        │\n",
       "└────────┴────────┴─────────────────────────┘"
      ]
     },
     "execution_count": 23,
     "metadata": {},
     "output_type": "execute_result"
    }
   ],
   "source": [
    "Teams = pl.read_csv('./sample_data/baseball/core/Teams.csv')\n",
    "#Teams.head()\n",
    "Teams_Short = (Teams\n",
    "              .select(['yearID','teamID','name']))\n",
    "Teams_Short.head()"
   ]
  },
  {
   "cell_type": "code",
   "execution_count": 31,
   "id": "6d81c38a-38e8-45e3-9872-5c907553843e",
   "metadata": {},
   "outputs": [
    {
     "data": {
      "text/html": [
       "<div><style>\n",
       ".dataframe > thead > tr,\n",
       ".dataframe > tbody > tr {\n",
       "  text-align: right;\n",
       "  white-space: pre-wrap;\n",
       "}\n",
       "</style>\n",
       "<small>shape: (5, 4)</small><table border=\"1\" class=\"dataframe\"><thead><tr><th>yearID</th><th>Player Name</th><th>Team Name</th><th>HR</th></tr><tr><td>i64</td><td>str</td><td>str</td><td>i64</td></tr></thead><tbody><tr><td>1920</td><td>&quot;George Herman&quot;</td><td>&quot;New York Yankees&quot;</td><td>54</td></tr><tr><td>1921</td><td>&quot;George Herman&quot;</td><td>&quot;New York Yankees&quot;</td><td>59</td></tr><tr><td>1922</td><td>&quot;Rogers&quot;</td><td>&quot;St. Louis Cardinals&quot;</td><td>42</td></tr><tr><td>1922</td><td>&quot;George Herman&quot;</td><td>&quot;New York Yankees&quot;</td><td>35</td></tr><tr><td>1922</td><td>&quot;Clarence William&quot;</td><td>&quot;Philadelphia Athletics&quot;</td><td>37</td></tr></tbody></table></div>"
      ],
      "text/plain": [
       "shape: (5, 4)\n",
       "┌────────┬──────────────────┬────────────────────────┬─────┐\n",
       "│ yearID ┆ Player Name      ┆ Team Name              ┆ HR  │\n",
       "│ ---    ┆ ---              ┆ ---                    ┆ --- │\n",
       "│ i64    ┆ str              ┆ str                    ┆ i64 │\n",
       "╞════════╪══════════════════╪════════════════════════╪═════╡\n",
       "│ 1920   ┆ George Herman    ┆ New York Yankees       ┆ 54  │\n",
       "│ 1921   ┆ George Herman    ┆ New York Yankees       ┆ 59  │\n",
       "│ 1922   ┆ Rogers           ┆ St. Louis Cardinals    ┆ 42  │\n",
       "│ 1922   ┆ George Herman    ┆ New York Yankees       ┆ 35  │\n",
       "│ 1922   ┆ Clarence William ┆ Philadelphia Athletics ┆ 37  │\n",
       "└────────┴──────────────────┴────────────────────────┴─────┘"
      ]
     },
     "execution_count": 31,
     "metadata": {},
     "output_type": "execute_result"
    }
   ],
   "source": [
    "Home_run_hitters = (Batting\n",
    "                    .select(['teamID','playerID','yearID','HR'])\n",
    "                   .filter(pl.col('HR')>=30)\n",
    "                   .join(People_short, on='playerID', how='left')\n",
    "                    .join(Teams_Short, on=['yearID','teamID'], how='left')\n",
    "                    .select(['yearID','nameGiven','name','HR'])\n",
    "                   .rename({'nameGiven':'Player Name'})\n",
    "                   .rename({'name':'Team Name'}))\n",
    "Home_run_hitters.head()"
   ]
  },
  {
   "cell_type": "markdown",
   "id": "9af4b290",
   "metadata": {},
   "source": [
    "## Joins are expensive!\n",
    "\n",
    "**Be careful when joining large tables!! Especially for full outer joins!!!**\n",
    "\n",
    "When joining table `A` to table `B`, \n",
    "\n",
    "* `inner_join` performs `min(len(A), len(B))` comparisons\n",
    "* `outer_join` performs `len(A)*len(B)` row comparisons.\n",
    "* `left_join` and `right_join` are somewhere inbetween (depending on how we treat multiples)."
   ]
  },
  {
   "cell_type": "markdown",
   "id": "4610e077",
   "metadata": {},
   "source": [
    "## Outer joins (can) produce LARGE tables.\n",
    "\n",
    "**Be careful when joining large tables!! Especially for full outer joins!!!**\n",
    "\n",
    "When joining table `A` to table `B`, \n",
    "\n",
    "* `outer_join` might produce `len(A)*len(B)` rows (worst case)\n",
    "* `left_join` and `right_join` are similar if we don't drop multiples."
   ]
  },
  {
   "cell_type": "markdown",
   "id": "9091f3d5-7e65-482d-863e-9d4487fabdc2",
   "metadata": {},
   "source": [
    "### Example - Incorrect join of `batting` and `teams`\n",
    "\n",
    "Suppose that, when joining the batting and teams table, we forget to include the `yearID` as a key"
   ]
  },
  {
   "cell_type": "code",
   "execution_count": 38,
   "id": "1cddf5cd-a81d-4318-816e-70827c9dc000",
   "metadata": {},
   "outputs": [
    {
     "data": {
      "text/plain": [
       "(107429, 22)"
      ]
     },
     "execution_count": 38,
     "metadata": {},
     "output_type": "execute_result"
    }
   ],
   "source": [
    "batting.shape"
   ]
  },
  {
   "cell_type": "code",
   "execution_count": 39,
   "id": "bde4d615-f7c6-47d3-ab2e-eeca979f0e04",
   "metadata": {},
   "outputs": [
    {
     "data": {
      "text/plain": [
       "(2925, 48)"
      ]
     },
     "execution_count": 39,
     "metadata": {},
     "output_type": "execute_result"
    }
   ],
   "source": [
    "teams.shape"
   ]
  },
  {
   "cell_type": "code",
   "execution_count": 40,
   "id": "d532d5db-4948-42b8-accd-18038a705aad",
   "metadata": {},
   "outputs": [],
   "source": [
    "BAD = batting.join(teams, on='teamID', how='full')"
   ]
  },
  {
   "cell_type": "code",
   "execution_count": 42,
   "id": "ffb24a08-1592-4d1b-b0e0-46dba452616d",
   "metadata": {},
   "outputs": [
    {
     "data": {
      "text/plain": [
       "(8699563, 70)"
      ]
     },
     "execution_count": 42,
     "metadata": {},
     "output_type": "execute_result"
    }
   ],
   "source": [
    "# the output EXPLODED!!!1!!one!\n",
    "BAD.shape"
   ]
  },
  {
   "cell_type": "markdown",
   "id": "513cac52",
   "metadata": {},
   "source": [
    "#### Last example "
   ]
  },
  {
   "cell_type": "code",
   "execution_count": 27,
   "id": "12ec8b5a",
   "metadata": {},
   "outputs": [
    {
     "data": {
      "text/plain": [
       "314229825"
      ]
     },
     "execution_count": 27,
     "metadata": {},
     "output_type": "execute_result"
    }
   ],
   "source": [
    "len(batting_select)*len(teams_select)"
   ]
  },
  {
   "cell_type": "markdown",
   "id": "bc209673",
   "metadata": {},
   "source": [
    "## The joining mantra: Filter/aggregate THEN join\n",
    "\n",
    "By filtering and/or aggregating before joining, you will\n",
    "\n",
    "* reduce the amount of work\n",
    "* protect against really large output"
   ]
  },
  {
   "cell_type": "markdown",
   "id": "c7431b36",
   "metadata": {},
   "source": [
    "#### Filter and aggregate to total runs per team per year"
   ]
  },
  {
   "cell_type": "code",
   "execution_count": 28,
   "id": "91c404c6",
   "metadata": {},
   "outputs": [
    {
     "data": {
      "text/html": [
       "<div><style>\n",
       ".dataframe > thead > tr,\n",
       ".dataframe > tbody > tr {\n",
       "  text-align: right;\n",
       "  white-space: pre-wrap;\n",
       "}\n",
       "</style>\n",
       "<small>shape: (5, 2)</small><table border=\"1\" class=\"dataframe\"><thead><tr><th>teamID</th><th>total_runs</th></tr><tr><td>str</td><td>i64</td></tr></thead><tbody><tr><td>&quot;PIT&quot;</td><td>636</td></tr><tr><td>&quot;TBA&quot;</td><td>803</td></tr><tr><td>&quot;SEA&quot;</td><td>640</td></tr><tr><td>&quot;BOS&quot;</td><td>872</td></tr><tr><td>&quot;DET&quot;</td><td>743</td></tr></tbody></table></div>"
      ],
      "text/plain": [
       "shape: (5, 2)\n",
       "┌────────┬────────────┐\n",
       "│ teamID ┆ total_runs │\n",
       "│ ---    ┆ ---        │\n",
       "│ str    ┆ i64        │\n",
       "╞════════╪════════════╡\n",
       "│ PIT    ┆ 636        │\n",
       "│ TBA    ┆ 803        │\n",
       "│ SEA    ┆ 640        │\n",
       "│ BOS    ┆ 872        │\n",
       "│ DET    ┆ 743        │\n",
       "└────────┴────────────┘"
      ]
     },
     "execution_count": 28,
     "metadata": {},
     "output_type": "execute_result"
    }
   ],
   "source": [
    "runs = (batting_select\n",
    "        .filter(pl.col('yearID') == 2009)\n",
    "        .group_by(pl.col('teamID'))\n",
    "        .agg(pl.col('R').sum().alias('total_runs')))\n",
    "\n",
    "runs.head()"
   ]
  },
  {
   "cell_type": "markdown",
   "id": "3f67b03f",
   "metadata": {},
   "source": [
    "#### Filter down to 2009 teams"
   ]
  },
  {
   "cell_type": "code",
   "execution_count": 29,
   "id": "2e183a75",
   "metadata": {},
   "outputs": [
    {
     "data": {
      "text/html": [
       "<div><style>\n",
       ".dataframe > thead > tr,\n",
       ".dataframe > tbody > tr {\n",
       "  text-align: right;\n",
       "  white-space: pre-wrap;\n",
       "}\n",
       "</style>\n",
       "<small>shape: (5, 4)</small><table border=\"1\" class=\"dataframe\"><thead><tr><th>yearID</th><th>teamID</th><th>name</th><th>park</th></tr><tr><td>i64</td><td>str</td><td>str</td><td>str</td></tr></thead><tbody><tr><td>2009</td><td>&quot;ARI&quot;</td><td>&quot;Arizona Diamondbacks&quot;</td><td>&quot;Chase Field&quot;</td></tr><tr><td>2009</td><td>&quot;ATL&quot;</td><td>&quot;Atlanta Braves&quot;</td><td>&quot;Turner Field&quot;</td></tr><tr><td>2009</td><td>&quot;BAL&quot;</td><td>&quot;Baltimore Orioles&quot;</td><td>&quot;Oriole Park at Camden Yards&quot;</td></tr><tr><td>2009</td><td>&quot;BOS&quot;</td><td>&quot;Boston Red Sox&quot;</td><td>&quot;Fenway Park II&quot;</td></tr><tr><td>2009</td><td>&quot;CHA&quot;</td><td>&quot;Chicago White Sox&quot;</td><td>&quot;U.S. Cellular Field&quot;</td></tr></tbody></table></div>"
      ],
      "text/plain": [
       "shape: (5, 4)\n",
       "┌────────┬────────┬──────────────────────┬─────────────────────────────┐\n",
       "│ yearID ┆ teamID ┆ name                 ┆ park                        │\n",
       "│ ---    ┆ ---    ┆ ---                  ┆ ---                         │\n",
       "│ i64    ┆ str    ┆ str                  ┆ str                         │\n",
       "╞════════╪════════╪══════════════════════╪═════════════════════════════╡\n",
       "│ 2009   ┆ ARI    ┆ Arizona Diamondbacks ┆ Chase Field                 │\n",
       "│ 2009   ┆ ATL    ┆ Atlanta Braves       ┆ Turner Field                │\n",
       "│ 2009   ┆ BAL    ┆ Baltimore Orioles    ┆ Oriole Park at Camden Yards │\n",
       "│ 2009   ┆ BOS    ┆ Boston Red Sox       ┆ Fenway Park II              │\n",
       "│ 2009   ┆ CHA    ┆ Chicago White Sox    ┆ U.S. Cellular Field         │\n",
       "└────────┴────────┴──────────────────────┴─────────────────────────────┘"
      ]
     },
     "execution_count": 29,
     "metadata": {},
     "output_type": "execute_result"
    }
   ],
   "source": [
    "teams09 = (teams_select\n",
    "           .filter(pl.col('yearID') == 2009)\n",
    "          )\n",
    "teams09.head()"
   ]
  },
  {
   "cell_type": "code",
   "execution_count": 30,
   "id": "46fa7a66",
   "metadata": {},
   "outputs": [
    {
     "data": {
      "text/plain": [
       "900"
      ]
     },
     "execution_count": 30,
     "metadata": {},
     "output_type": "execute_result"
    }
   ],
   "source": [
    "len(runs)*len(teams09)"
   ]
  },
  {
   "cell_type": "code",
   "execution_count": 31,
   "id": "0e51e84c",
   "metadata": {},
   "outputs": [
    {
     "data": {
      "text/html": [
       "<div><style>\n",
       ".dataframe > thead > tr,\n",
       ".dataframe > tbody > tr {\n",
       "  text-align: right;\n",
       "  white-space: pre-wrap;\n",
       "}\n",
       "</style>\n",
       "<small>shape: (5, 4)</small><table border=\"1\" class=\"dataframe\"><thead><tr><th>total_runs</th><th>yearID</th><th>name</th><th>park</th></tr><tr><td>i64</td><td>i64</td><td>str</td><td>str</td></tr></thead><tbody><tr><td>636</td><td>2009</td><td>&quot;Pittsburgh Pirates&quot;</td><td>&quot;PNC Park&quot;</td></tr><tr><td>803</td><td>2009</td><td>&quot;Tampa Bay Rays&quot;</td><td>&quot;Tropicana Field&quot;</td></tr><tr><td>640</td><td>2009</td><td>&quot;Seattle Mariners&quot;</td><td>&quot;Safeco Field&quot;</td></tr><tr><td>872</td><td>2009</td><td>&quot;Boston Red Sox&quot;</td><td>&quot;Fenway Park II&quot;</td></tr><tr><td>743</td><td>2009</td><td>&quot;Detroit Tigers&quot;</td><td>&quot;Comerica Park&quot;</td></tr></tbody></table></div>"
      ],
      "text/plain": [
       "shape: (5, 4)\n",
       "┌────────────┬────────┬────────────────────┬─────────────────┐\n",
       "│ total_runs ┆ yearID ┆ name               ┆ park            │\n",
       "│ ---        ┆ ---    ┆ ---                ┆ ---             │\n",
       "│ i64        ┆ i64    ┆ str                ┆ str             │\n",
       "╞════════════╪════════╪════════════════════╪═════════════════╡\n",
       "│ 636        ┆ 2009   ┆ Pittsburgh Pirates ┆ PNC Park        │\n",
       "│ 803        ┆ 2009   ┆ Tampa Bay Rays     ┆ Tropicana Field │\n",
       "│ 640        ┆ 2009   ┆ Seattle Mariners   ┆ Safeco Field    │\n",
       "│ 872        ┆ 2009   ┆ Boston Red Sox     ┆ Fenway Park II  │\n",
       "│ 743        ┆ 2009   ┆ Detroit Tigers     ┆ Comerica Park   │\n",
       "└────────────┴────────┴────────────────────┴─────────────────┘"
      ]
     },
     "execution_count": 31,
     "metadata": {},
     "output_type": "execute_result"
    }
   ],
   "source": [
    "runs_per_team09_new = (runs \n",
    "                       .join(teams09, on='teamID', how='left')\n",
    "                       .drop('teamID')\n",
    "                      )\n",
    "runs_per_team09_new.head()"
   ]
  },
  {
   "cell_type": "code",
   "execution_count": 32,
   "id": "40b92f96",
   "metadata": {},
   "outputs": [
    {
     "data": {
      "text/plain": [
       "(30, 4)"
      ]
     },
     "execution_count": 32,
     "metadata": {},
     "output_type": "execute_result"
    }
   ],
   "source": [
    "runs_per_team09_new.shape"
   ]
  },
  {
   "cell_type": "markdown",
   "id": "9684ce4d",
   "metadata": {},
   "source": [
    "## Don't worry about speed until it matters!\n",
    "\n",
    "* I don't emphasize speed most of the time.\n",
    "* In this case, either approach was nearly instant.\n",
    "* Still ... `join`s are *so dangerous* that I make an exception here!"
   ]
  },
  {
   "cell_type": "code",
   "execution_count": 33,
   "id": "9a022558",
   "metadata": {
    "slideshow": {
     "slide_type": "fragment"
    }
   },
   "outputs": [],
   "source": [
    "# Your code here"
   ]
  }
 ],
 "metadata": {
  "celltoolbar": "Slideshow",
  "kernelspec": {
   "display_name": "Python 3 (ipykernel)",
   "language": "python",
   "name": "python3"
  },
  "language_info": {
   "codemirror_mode": {
    "name": "ipython",
    "version": 3
   },
   "file_extension": ".py",
   "mimetype": "text/x-python",
   "name": "python",
   "nbconvert_exporter": "python",
   "pygments_lexer": "ipython3",
   "version": "3.12.5"
  },
  "varInspector": {
   "cols": {
    "lenName": 16,
    "lenType": 16,
    "lenVar": 40
   },
   "kernels_config": {
    "python": {
     "delete_cmd_postfix": "",
     "delete_cmd_prefix": "del ",
     "library": "var_list.py",
     "varRefreshCmd": "print(var_dic_list())"
    },
    "r": {
     "delete_cmd_postfix": ") ",
     "delete_cmd_prefix": "rm(",
     "library": "var_list.r",
     "varRefreshCmd": "cat(var_dic_list()) "
    }
   },
   "types_to_exclude": [
    "module",
    "function",
    "builtin_function_or_method",
    "instance",
    "_Feature"
   ],
   "window_display": false
  }
 },
 "nbformat": 4,
 "nbformat_minor": 5
}
